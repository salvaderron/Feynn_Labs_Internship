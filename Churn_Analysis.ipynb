{
  "cells": [
    {
      "cell_type": "code",
      "execution_count": 2,
      "id": "bd027d58",
      "metadata": {
        "id": "bd027d58"
      },
      "outputs": [],
      "source": [
        "import pandas as pd\n",
        "import numpy as np\n",
        "import matplotlib.pyplot as plt\n",
        "import seaborn as sns\n",
        "sns.set()\n",
        "from scipy.stats import skew\n",
        "import seaborn as sns\n",
        "import matplotlib.pyplot as plt\n",
        "import plotly.express as px\n",
        "from sklearn.preprocessing import StandardScaler, LabelEncoder\n",
        "from sklearn.model_selection import train_test_split, cross_val_score, KFold\n",
        "from sklearn.linear_model import LogisticRegression\n",
        "from sklearn.neighbors import KNeighborsClassifier\n",
        "from sklearn.naive_bayes import GaussianNB\n",
        "from sklearn.ensemble import RandomForestClassifier, GradientBoostingClassifier\n",
        "from xgboost import XGBClassifier\n",
        "from sklearn.metrics import accuracy_score, classification_report, roc_auc_score, roc_curve\n",
        "import tensorflow as tf"
      ]
    },
    {
      "cell_type": "code",
      "execution_count": 3,
      "id": "023ab35d",
      "metadata": {
        "id": "023ab35d"
      },
      "outputs": [],
      "source": [
        "df = pd.read_csv('WA_Fn-UseC_-Telco-Customer-Churn.csv')"
      ]
    },
    {
      "cell_type": "code",
      "execution_count": 4,
      "id": "26f3364a",
      "metadata": {
        "colab": {
          "base_uri": "https://localhost:8080/",
          "height": 661
        },
        "id": "26f3364a",
        "outputId": "7bbcd26e-de6e-4bd5-b30f-8fd8b4f40a24"
      },
      "outputs": [
        {
          "output_type": "execute_result",
          "data": {
            "text/plain": [
              "      customerID  gender  SeniorCitizen Partner Dependents  tenure  \\\n",
              "0     7590-VHVEG  Female              0     Yes         No       1   \n",
              "1     5575-GNVDE    Male              0      No         No      34   \n",
              "2     3668-QPYBK    Male              0      No         No       2   \n",
              "3     7795-CFOCW    Male              0      No         No      45   \n",
              "4     9237-HQITU  Female              0      No         No       2   \n",
              "...          ...     ...            ...     ...        ...     ...   \n",
              "7038  6840-RESVB    Male              0     Yes        Yes      24   \n",
              "7039  2234-XADUH  Female              0     Yes        Yes      72   \n",
              "7040  4801-JZAZL  Female              0     Yes        Yes      11   \n",
              "7041  8361-LTMKD    Male              1     Yes         No       4   \n",
              "7042  3186-AJIEK    Male              0      No         No      66   \n",
              "\n",
              "     PhoneService     MultipleLines InternetService OnlineSecurity  ...  \\\n",
              "0              No  No phone service             DSL             No  ...   \n",
              "1             Yes                No             DSL            Yes  ...   \n",
              "2             Yes                No             DSL            Yes  ...   \n",
              "3              No  No phone service             DSL            Yes  ...   \n",
              "4             Yes                No     Fiber optic             No  ...   \n",
              "...           ...               ...             ...            ...  ...   \n",
              "7038          Yes               Yes             DSL            Yes  ...   \n",
              "7039          Yes               Yes     Fiber optic             No  ...   \n",
              "7040           No  No phone service             DSL            Yes  ...   \n",
              "7041          Yes               Yes     Fiber optic             No  ...   \n",
              "7042          Yes                No     Fiber optic            Yes  ...   \n",
              "\n",
              "     DeviceProtection TechSupport StreamingTV StreamingMovies        Contract  \\\n",
              "0                  No          No          No              No  Month-to-month   \n",
              "1                 Yes          No          No              No        One year   \n",
              "2                  No          No          No              No  Month-to-month   \n",
              "3                 Yes         Yes          No              No        One year   \n",
              "4                  No          No          No              No  Month-to-month   \n",
              "...               ...         ...         ...             ...             ...   \n",
              "7038              Yes         Yes         Yes             Yes        One year   \n",
              "7039              Yes          No         Yes             Yes        One year   \n",
              "7040               No          No          No              No  Month-to-month   \n",
              "7041               No          No          No              No  Month-to-month   \n",
              "7042              Yes         Yes         Yes             Yes        Two year   \n",
              "\n",
              "     PaperlessBilling              PaymentMethod MonthlyCharges  TotalCharges  \\\n",
              "0                 Yes           Electronic check          29.85         29.85   \n",
              "1                  No               Mailed check          56.95        1889.5   \n",
              "2                 Yes               Mailed check          53.85        108.15   \n",
              "3                  No  Bank transfer (automatic)          42.30       1840.75   \n",
              "4                 Yes           Electronic check          70.70        151.65   \n",
              "...               ...                        ...            ...           ...   \n",
              "7038              Yes               Mailed check          84.80        1990.5   \n",
              "7039              Yes    Credit card (automatic)         103.20        7362.9   \n",
              "7040              Yes           Electronic check          29.60        346.45   \n",
              "7041              Yes               Mailed check          74.40         306.6   \n",
              "7042              Yes  Bank transfer (automatic)         105.65        6844.5   \n",
              "\n",
              "     Churn  \n",
              "0       No  \n",
              "1       No  \n",
              "2      Yes  \n",
              "3       No  \n",
              "4      Yes  \n",
              "...    ...  \n",
              "7038    No  \n",
              "7039    No  \n",
              "7040    No  \n",
              "7041   Yes  \n",
              "7042    No  \n",
              "\n",
              "[7043 rows x 21 columns]"
            ],
            "text/html": [
              "\n",
              "  <div id=\"df-97eb4337-ff82-475f-9bc7-adb03f6dce84\">\n",
              "    <div class=\"colab-df-container\">\n",
              "      <div>\n",
              "<style scoped>\n",
              "    .dataframe tbody tr th:only-of-type {\n",
              "        vertical-align: middle;\n",
              "    }\n",
              "\n",
              "    .dataframe tbody tr th {\n",
              "        vertical-align: top;\n",
              "    }\n",
              "\n",
              "    .dataframe thead th {\n",
              "        text-align: right;\n",
              "    }\n",
              "</style>\n",
              "<table border=\"1\" class=\"dataframe\">\n",
              "  <thead>\n",
              "    <tr style=\"text-align: right;\">\n",
              "      <th></th>\n",
              "      <th>customerID</th>\n",
              "      <th>gender</th>\n",
              "      <th>SeniorCitizen</th>\n",
              "      <th>Partner</th>\n",
              "      <th>Dependents</th>\n",
              "      <th>tenure</th>\n",
              "      <th>PhoneService</th>\n",
              "      <th>MultipleLines</th>\n",
              "      <th>InternetService</th>\n",
              "      <th>OnlineSecurity</th>\n",
              "      <th>...</th>\n",
              "      <th>DeviceProtection</th>\n",
              "      <th>TechSupport</th>\n",
              "      <th>StreamingTV</th>\n",
              "      <th>StreamingMovies</th>\n",
              "      <th>Contract</th>\n",
              "      <th>PaperlessBilling</th>\n",
              "      <th>PaymentMethod</th>\n",
              "      <th>MonthlyCharges</th>\n",
              "      <th>TotalCharges</th>\n",
              "      <th>Churn</th>\n",
              "    </tr>\n",
              "  </thead>\n",
              "  <tbody>\n",
              "    <tr>\n",
              "      <th>0</th>\n",
              "      <td>7590-VHVEG</td>\n",
              "      <td>Female</td>\n",
              "      <td>0</td>\n",
              "      <td>Yes</td>\n",
              "      <td>No</td>\n",
              "      <td>1</td>\n",
              "      <td>No</td>\n",
              "      <td>No phone service</td>\n",
              "      <td>DSL</td>\n",
              "      <td>No</td>\n",
              "      <td>...</td>\n",
              "      <td>No</td>\n",
              "      <td>No</td>\n",
              "      <td>No</td>\n",
              "      <td>No</td>\n",
              "      <td>Month-to-month</td>\n",
              "      <td>Yes</td>\n",
              "      <td>Electronic check</td>\n",
              "      <td>29.85</td>\n",
              "      <td>29.85</td>\n",
              "      <td>No</td>\n",
              "    </tr>\n",
              "    <tr>\n",
              "      <th>1</th>\n",
              "      <td>5575-GNVDE</td>\n",
              "      <td>Male</td>\n",
              "      <td>0</td>\n",
              "      <td>No</td>\n",
              "      <td>No</td>\n",
              "      <td>34</td>\n",
              "      <td>Yes</td>\n",
              "      <td>No</td>\n",
              "      <td>DSL</td>\n",
              "      <td>Yes</td>\n",
              "      <td>...</td>\n",
              "      <td>Yes</td>\n",
              "      <td>No</td>\n",
              "      <td>No</td>\n",
              "      <td>No</td>\n",
              "      <td>One year</td>\n",
              "      <td>No</td>\n",
              "      <td>Mailed check</td>\n",
              "      <td>56.95</td>\n",
              "      <td>1889.5</td>\n",
              "      <td>No</td>\n",
              "    </tr>\n",
              "    <tr>\n",
              "      <th>2</th>\n",
              "      <td>3668-QPYBK</td>\n",
              "      <td>Male</td>\n",
              "      <td>0</td>\n",
              "      <td>No</td>\n",
              "      <td>No</td>\n",
              "      <td>2</td>\n",
              "      <td>Yes</td>\n",
              "      <td>No</td>\n",
              "      <td>DSL</td>\n",
              "      <td>Yes</td>\n",
              "      <td>...</td>\n",
              "      <td>No</td>\n",
              "      <td>No</td>\n",
              "      <td>No</td>\n",
              "      <td>No</td>\n",
              "      <td>Month-to-month</td>\n",
              "      <td>Yes</td>\n",
              "      <td>Mailed check</td>\n",
              "      <td>53.85</td>\n",
              "      <td>108.15</td>\n",
              "      <td>Yes</td>\n",
              "    </tr>\n",
              "    <tr>\n",
              "      <th>3</th>\n",
              "      <td>7795-CFOCW</td>\n",
              "      <td>Male</td>\n",
              "      <td>0</td>\n",
              "      <td>No</td>\n",
              "      <td>No</td>\n",
              "      <td>45</td>\n",
              "      <td>No</td>\n",
              "      <td>No phone service</td>\n",
              "      <td>DSL</td>\n",
              "      <td>Yes</td>\n",
              "      <td>...</td>\n",
              "      <td>Yes</td>\n",
              "      <td>Yes</td>\n",
              "      <td>No</td>\n",
              "      <td>No</td>\n",
              "      <td>One year</td>\n",
              "      <td>No</td>\n",
              "      <td>Bank transfer (automatic)</td>\n",
              "      <td>42.30</td>\n",
              "      <td>1840.75</td>\n",
              "      <td>No</td>\n",
              "    </tr>\n",
              "    <tr>\n",
              "      <th>4</th>\n",
              "      <td>9237-HQITU</td>\n",
              "      <td>Female</td>\n",
              "      <td>0</td>\n",
              "      <td>No</td>\n",
              "      <td>No</td>\n",
              "      <td>2</td>\n",
              "      <td>Yes</td>\n",
              "      <td>No</td>\n",
              "      <td>Fiber optic</td>\n",
              "      <td>No</td>\n",
              "      <td>...</td>\n",
              "      <td>No</td>\n",
              "      <td>No</td>\n",
              "      <td>No</td>\n",
              "      <td>No</td>\n",
              "      <td>Month-to-month</td>\n",
              "      <td>Yes</td>\n",
              "      <td>Electronic check</td>\n",
              "      <td>70.70</td>\n",
              "      <td>151.65</td>\n",
              "      <td>Yes</td>\n",
              "    </tr>\n",
              "    <tr>\n",
              "      <th>...</th>\n",
              "      <td>...</td>\n",
              "      <td>...</td>\n",
              "      <td>...</td>\n",
              "      <td>...</td>\n",
              "      <td>...</td>\n",
              "      <td>...</td>\n",
              "      <td>...</td>\n",
              "      <td>...</td>\n",
              "      <td>...</td>\n",
              "      <td>...</td>\n",
              "      <td>...</td>\n",
              "      <td>...</td>\n",
              "      <td>...</td>\n",
              "      <td>...</td>\n",
              "      <td>...</td>\n",
              "      <td>...</td>\n",
              "      <td>...</td>\n",
              "      <td>...</td>\n",
              "      <td>...</td>\n",
              "      <td>...</td>\n",
              "      <td>...</td>\n",
              "    </tr>\n",
              "    <tr>\n",
              "      <th>7038</th>\n",
              "      <td>6840-RESVB</td>\n",
              "      <td>Male</td>\n",
              "      <td>0</td>\n",
              "      <td>Yes</td>\n",
              "      <td>Yes</td>\n",
              "      <td>24</td>\n",
              "      <td>Yes</td>\n",
              "      <td>Yes</td>\n",
              "      <td>DSL</td>\n",
              "      <td>Yes</td>\n",
              "      <td>...</td>\n",
              "      <td>Yes</td>\n",
              "      <td>Yes</td>\n",
              "      <td>Yes</td>\n",
              "      <td>Yes</td>\n",
              "      <td>One year</td>\n",
              "      <td>Yes</td>\n",
              "      <td>Mailed check</td>\n",
              "      <td>84.80</td>\n",
              "      <td>1990.5</td>\n",
              "      <td>No</td>\n",
              "    </tr>\n",
              "    <tr>\n",
              "      <th>7039</th>\n",
              "      <td>2234-XADUH</td>\n",
              "      <td>Female</td>\n",
              "      <td>0</td>\n",
              "      <td>Yes</td>\n",
              "      <td>Yes</td>\n",
              "      <td>72</td>\n",
              "      <td>Yes</td>\n",
              "      <td>Yes</td>\n",
              "      <td>Fiber optic</td>\n",
              "      <td>No</td>\n",
              "      <td>...</td>\n",
              "      <td>Yes</td>\n",
              "      <td>No</td>\n",
              "      <td>Yes</td>\n",
              "      <td>Yes</td>\n",
              "      <td>One year</td>\n",
              "      <td>Yes</td>\n",
              "      <td>Credit card (automatic)</td>\n",
              "      <td>103.20</td>\n",
              "      <td>7362.9</td>\n",
              "      <td>No</td>\n",
              "    </tr>\n",
              "    <tr>\n",
              "      <th>7040</th>\n",
              "      <td>4801-JZAZL</td>\n",
              "      <td>Female</td>\n",
              "      <td>0</td>\n",
              "      <td>Yes</td>\n",
              "      <td>Yes</td>\n",
              "      <td>11</td>\n",
              "      <td>No</td>\n",
              "      <td>No phone service</td>\n",
              "      <td>DSL</td>\n",
              "      <td>Yes</td>\n",
              "      <td>...</td>\n",
              "      <td>No</td>\n",
              "      <td>No</td>\n",
              "      <td>No</td>\n",
              "      <td>No</td>\n",
              "      <td>Month-to-month</td>\n",
              "      <td>Yes</td>\n",
              "      <td>Electronic check</td>\n",
              "      <td>29.60</td>\n",
              "      <td>346.45</td>\n",
              "      <td>No</td>\n",
              "    </tr>\n",
              "    <tr>\n",
              "      <th>7041</th>\n",
              "      <td>8361-LTMKD</td>\n",
              "      <td>Male</td>\n",
              "      <td>1</td>\n",
              "      <td>Yes</td>\n",
              "      <td>No</td>\n",
              "      <td>4</td>\n",
              "      <td>Yes</td>\n",
              "      <td>Yes</td>\n",
              "      <td>Fiber optic</td>\n",
              "      <td>No</td>\n",
              "      <td>...</td>\n",
              "      <td>No</td>\n",
              "      <td>No</td>\n",
              "      <td>No</td>\n",
              "      <td>No</td>\n",
              "      <td>Month-to-month</td>\n",
              "      <td>Yes</td>\n",
              "      <td>Mailed check</td>\n",
              "      <td>74.40</td>\n",
              "      <td>306.6</td>\n",
              "      <td>Yes</td>\n",
              "    </tr>\n",
              "    <tr>\n",
              "      <th>7042</th>\n",
              "      <td>3186-AJIEK</td>\n",
              "      <td>Male</td>\n",
              "      <td>0</td>\n",
              "      <td>No</td>\n",
              "      <td>No</td>\n",
              "      <td>66</td>\n",
              "      <td>Yes</td>\n",
              "      <td>No</td>\n",
              "      <td>Fiber optic</td>\n",
              "      <td>Yes</td>\n",
              "      <td>...</td>\n",
              "      <td>Yes</td>\n",
              "      <td>Yes</td>\n",
              "      <td>Yes</td>\n",
              "      <td>Yes</td>\n",
              "      <td>Two year</td>\n",
              "      <td>Yes</td>\n",
              "      <td>Bank transfer (automatic)</td>\n",
              "      <td>105.65</td>\n",
              "      <td>6844.5</td>\n",
              "      <td>No</td>\n",
              "    </tr>\n",
              "  </tbody>\n",
              "</table>\n",
              "<p>7043 rows × 21 columns</p>\n",
              "</div>\n",
              "      <button class=\"colab-df-convert\" onclick=\"convertToInteractive('df-97eb4337-ff82-475f-9bc7-adb03f6dce84')\"\n",
              "              title=\"Convert this dataframe to an interactive table.\"\n",
              "              style=\"display:none;\">\n",
              "        \n",
              "  <svg xmlns=\"http://www.w3.org/2000/svg\" height=\"24px\"viewBox=\"0 0 24 24\"\n",
              "       width=\"24px\">\n",
              "    <path d=\"M0 0h24v24H0V0z\" fill=\"none\"/>\n",
              "    <path d=\"M18.56 5.44l.94 2.06.94-2.06 2.06-.94-2.06-.94-.94-2.06-.94 2.06-2.06.94zm-11 1L8.5 8.5l.94-2.06 2.06-.94-2.06-.94L8.5 2.5l-.94 2.06-2.06.94zm10 10l.94 2.06.94-2.06 2.06-.94-2.06-.94-.94-2.06-.94 2.06-2.06.94z\"/><path d=\"M17.41 7.96l-1.37-1.37c-.4-.4-.92-.59-1.43-.59-.52 0-1.04.2-1.43.59L10.3 9.45l-7.72 7.72c-.78.78-.78 2.05 0 2.83L4 21.41c.39.39.9.59 1.41.59.51 0 1.02-.2 1.41-.59l7.78-7.78 2.81-2.81c.8-.78.8-2.07 0-2.86zM5.41 20L4 18.59l7.72-7.72 1.47 1.35L5.41 20z\"/>\n",
              "  </svg>\n",
              "      </button>\n",
              "      \n",
              "  <style>\n",
              "    .colab-df-container {\n",
              "      display:flex;\n",
              "      flex-wrap:wrap;\n",
              "      gap: 12px;\n",
              "    }\n",
              "\n",
              "    .colab-df-convert {\n",
              "      background-color: #E8F0FE;\n",
              "      border: none;\n",
              "      border-radius: 50%;\n",
              "      cursor: pointer;\n",
              "      display: none;\n",
              "      fill: #1967D2;\n",
              "      height: 32px;\n",
              "      padding: 0 0 0 0;\n",
              "      width: 32px;\n",
              "    }\n",
              "\n",
              "    .colab-df-convert:hover {\n",
              "      background-color: #E2EBFA;\n",
              "      box-shadow: 0px 1px 2px rgba(60, 64, 67, 0.3), 0px 1px 3px 1px rgba(60, 64, 67, 0.15);\n",
              "      fill: #174EA6;\n",
              "    }\n",
              "\n",
              "    [theme=dark] .colab-df-convert {\n",
              "      background-color: #3B4455;\n",
              "      fill: #D2E3FC;\n",
              "    }\n",
              "\n",
              "    [theme=dark] .colab-df-convert:hover {\n",
              "      background-color: #434B5C;\n",
              "      box-shadow: 0px 1px 3px 1px rgba(0, 0, 0, 0.15);\n",
              "      filter: drop-shadow(0px 1px 2px rgba(0, 0, 0, 0.3));\n",
              "      fill: #FFFFFF;\n",
              "    }\n",
              "  </style>\n",
              "\n",
              "      <script>\n",
              "        const buttonEl =\n",
              "          document.querySelector('#df-97eb4337-ff82-475f-9bc7-adb03f6dce84 button.colab-df-convert');\n",
              "        buttonEl.style.display =\n",
              "          google.colab.kernel.accessAllowed ? 'block' : 'none';\n",
              "\n",
              "        async function convertToInteractive(key) {\n",
              "          const element = document.querySelector('#df-97eb4337-ff82-475f-9bc7-adb03f6dce84');\n",
              "          const dataTable =\n",
              "            await google.colab.kernel.invokeFunction('convertToInteractive',\n",
              "                                                     [key], {});\n",
              "          if (!dataTable) return;\n",
              "\n",
              "          const docLinkHtml = 'Like what you see? Visit the ' +\n",
              "            '<a target=\"_blank\" href=https://colab.research.google.com/notebooks/data_table.ipynb>data table notebook</a>'\n",
              "            + ' to learn more about interactive tables.';\n",
              "          element.innerHTML = '';\n",
              "          dataTable['output_type'] = 'display_data';\n",
              "          await google.colab.output.renderOutput(dataTable, element);\n",
              "          const docLink = document.createElement('div');\n",
              "          docLink.innerHTML = docLinkHtml;\n",
              "          element.appendChild(docLink);\n",
              "        }\n",
              "      </script>\n",
              "    </div>\n",
              "  </div>\n",
              "  "
            ]
          },
          "metadata": {},
          "execution_count": 4
        }
      ],
      "source": [
        "df"
      ]
    },
    {
      "cell_type": "code",
      "execution_count": 5,
      "id": "76609887",
      "metadata": {
        "colab": {
          "base_uri": "https://localhost:8080/"
        },
        "id": "76609887",
        "outputId": "e6dde008-cf2c-43e3-c49a-59be7c6caea2"
      },
      "outputs": [
        {
          "output_type": "execute_result",
          "data": {
            "text/plain": [
              "customerID          0\n",
              "gender              0\n",
              "SeniorCitizen       0\n",
              "Partner             0\n",
              "Dependents          0\n",
              "tenure              0\n",
              "PhoneService        0\n",
              "MultipleLines       0\n",
              "InternetService     0\n",
              "OnlineSecurity      0\n",
              "OnlineBackup        0\n",
              "DeviceProtection    0\n",
              "TechSupport         0\n",
              "StreamingTV         0\n",
              "StreamingMovies     0\n",
              "Contract            0\n",
              "PaperlessBilling    0\n",
              "PaymentMethod       0\n",
              "MonthlyCharges      0\n",
              "TotalCharges        0\n",
              "Churn               0\n",
              "dtype: int64"
            ]
          },
          "metadata": {},
          "execution_count": 5
        }
      ],
      "source": [
        "df.isna().sum()"
      ]
    },
    {
      "cell_type": "code",
      "execution_count": 6,
      "id": "a54d2967",
      "metadata": {
        "colab": {
          "base_uri": "https://localhost:8080/"
        },
        "id": "a54d2967",
        "outputId": "7b866764-4a1f-44e0-c7bb-bd7442112e46"
      },
      "outputs": [
        {
          "output_type": "execute_result",
          "data": {
            "text/plain": [
              "Type\n",
              "Categorical    18\n",
              "Numerical       3\n",
              "dtype: int64"
            ]
          },
          "metadata": {},
          "execution_count": 6
        }
      ],
      "source": [
        "t = df.dtypes.reset_index()\n",
        "t['Type'] = np.where(t.loc[:, 0].astype(str).isin(['int64', 'float64']), 'Numerical', 'Categorical')\n",
        "t.groupby('Type').size()"
      ]
    },
    {
      "cell_type": "code",
      "execution_count": 7,
      "id": "3de72354",
      "metadata": {
        "colab": {
          "base_uri": "https://localhost:8080/",
          "height": 614
        },
        "id": "3de72354",
        "outputId": "c4f7658c-8228-4781-89be-0749cf18b96a"
      },
      "outputs": [
        {
          "output_type": "execute_result",
          "data": {
            "text/plain": [
              "               index       0         Type\n",
              "0         customerID  object  Categorical\n",
              "1             gender  object  Categorical\n",
              "3            Partner  object  Categorical\n",
              "4         Dependents  object  Categorical\n",
              "6       PhoneService  object  Categorical\n",
              "7      MultipleLines  object  Categorical\n",
              "8    InternetService  object  Categorical\n",
              "9     OnlineSecurity  object  Categorical\n",
              "10      OnlineBackup  object  Categorical\n",
              "11  DeviceProtection  object  Categorical\n",
              "12       TechSupport  object  Categorical\n",
              "13       StreamingTV  object  Categorical\n",
              "14   StreamingMovies  object  Categorical\n",
              "15          Contract  object  Categorical\n",
              "16  PaperlessBilling  object  Categorical\n",
              "17     PaymentMethod  object  Categorical\n",
              "19      TotalCharges  object  Categorical\n",
              "20             Churn  object  Categorical"
            ],
            "text/html": [
              "\n",
              "  <div id=\"df-ad6e7555-cf65-4d47-88c3-91ede0c6b868\">\n",
              "    <div class=\"colab-df-container\">\n",
              "      <div>\n",
              "<style scoped>\n",
              "    .dataframe tbody tr th:only-of-type {\n",
              "        vertical-align: middle;\n",
              "    }\n",
              "\n",
              "    .dataframe tbody tr th {\n",
              "        vertical-align: top;\n",
              "    }\n",
              "\n",
              "    .dataframe thead th {\n",
              "        text-align: right;\n",
              "    }\n",
              "</style>\n",
              "<table border=\"1\" class=\"dataframe\">\n",
              "  <thead>\n",
              "    <tr style=\"text-align: right;\">\n",
              "      <th></th>\n",
              "      <th>index</th>\n",
              "      <th>0</th>\n",
              "      <th>Type</th>\n",
              "    </tr>\n",
              "  </thead>\n",
              "  <tbody>\n",
              "    <tr>\n",
              "      <th>0</th>\n",
              "      <td>customerID</td>\n",
              "      <td>object</td>\n",
              "      <td>Categorical</td>\n",
              "    </tr>\n",
              "    <tr>\n",
              "      <th>1</th>\n",
              "      <td>gender</td>\n",
              "      <td>object</td>\n",
              "      <td>Categorical</td>\n",
              "    </tr>\n",
              "    <tr>\n",
              "      <th>3</th>\n",
              "      <td>Partner</td>\n",
              "      <td>object</td>\n",
              "      <td>Categorical</td>\n",
              "    </tr>\n",
              "    <tr>\n",
              "      <th>4</th>\n",
              "      <td>Dependents</td>\n",
              "      <td>object</td>\n",
              "      <td>Categorical</td>\n",
              "    </tr>\n",
              "    <tr>\n",
              "      <th>6</th>\n",
              "      <td>PhoneService</td>\n",
              "      <td>object</td>\n",
              "      <td>Categorical</td>\n",
              "    </tr>\n",
              "    <tr>\n",
              "      <th>7</th>\n",
              "      <td>MultipleLines</td>\n",
              "      <td>object</td>\n",
              "      <td>Categorical</td>\n",
              "    </tr>\n",
              "    <tr>\n",
              "      <th>8</th>\n",
              "      <td>InternetService</td>\n",
              "      <td>object</td>\n",
              "      <td>Categorical</td>\n",
              "    </tr>\n",
              "    <tr>\n",
              "      <th>9</th>\n",
              "      <td>OnlineSecurity</td>\n",
              "      <td>object</td>\n",
              "      <td>Categorical</td>\n",
              "    </tr>\n",
              "    <tr>\n",
              "      <th>10</th>\n",
              "      <td>OnlineBackup</td>\n",
              "      <td>object</td>\n",
              "      <td>Categorical</td>\n",
              "    </tr>\n",
              "    <tr>\n",
              "      <th>11</th>\n",
              "      <td>DeviceProtection</td>\n",
              "      <td>object</td>\n",
              "      <td>Categorical</td>\n",
              "    </tr>\n",
              "    <tr>\n",
              "      <th>12</th>\n",
              "      <td>TechSupport</td>\n",
              "      <td>object</td>\n",
              "      <td>Categorical</td>\n",
              "    </tr>\n",
              "    <tr>\n",
              "      <th>13</th>\n",
              "      <td>StreamingTV</td>\n",
              "      <td>object</td>\n",
              "      <td>Categorical</td>\n",
              "    </tr>\n",
              "    <tr>\n",
              "      <th>14</th>\n",
              "      <td>StreamingMovies</td>\n",
              "      <td>object</td>\n",
              "      <td>Categorical</td>\n",
              "    </tr>\n",
              "    <tr>\n",
              "      <th>15</th>\n",
              "      <td>Contract</td>\n",
              "      <td>object</td>\n",
              "      <td>Categorical</td>\n",
              "    </tr>\n",
              "    <tr>\n",
              "      <th>16</th>\n",
              "      <td>PaperlessBilling</td>\n",
              "      <td>object</td>\n",
              "      <td>Categorical</td>\n",
              "    </tr>\n",
              "    <tr>\n",
              "      <th>17</th>\n",
              "      <td>PaymentMethod</td>\n",
              "      <td>object</td>\n",
              "      <td>Categorical</td>\n",
              "    </tr>\n",
              "    <tr>\n",
              "      <th>19</th>\n",
              "      <td>TotalCharges</td>\n",
              "      <td>object</td>\n",
              "      <td>Categorical</td>\n",
              "    </tr>\n",
              "    <tr>\n",
              "      <th>20</th>\n",
              "      <td>Churn</td>\n",
              "      <td>object</td>\n",
              "      <td>Categorical</td>\n",
              "    </tr>\n",
              "  </tbody>\n",
              "</table>\n",
              "</div>\n",
              "      <button class=\"colab-df-convert\" onclick=\"convertToInteractive('df-ad6e7555-cf65-4d47-88c3-91ede0c6b868')\"\n",
              "              title=\"Convert this dataframe to an interactive table.\"\n",
              "              style=\"display:none;\">\n",
              "        \n",
              "  <svg xmlns=\"http://www.w3.org/2000/svg\" height=\"24px\"viewBox=\"0 0 24 24\"\n",
              "       width=\"24px\">\n",
              "    <path d=\"M0 0h24v24H0V0z\" fill=\"none\"/>\n",
              "    <path d=\"M18.56 5.44l.94 2.06.94-2.06 2.06-.94-2.06-.94-.94-2.06-.94 2.06-2.06.94zm-11 1L8.5 8.5l.94-2.06 2.06-.94-2.06-.94L8.5 2.5l-.94 2.06-2.06.94zm10 10l.94 2.06.94-2.06 2.06-.94-2.06-.94-.94-2.06-.94 2.06-2.06.94z\"/><path d=\"M17.41 7.96l-1.37-1.37c-.4-.4-.92-.59-1.43-.59-.52 0-1.04.2-1.43.59L10.3 9.45l-7.72 7.72c-.78.78-.78 2.05 0 2.83L4 21.41c.39.39.9.59 1.41.59.51 0 1.02-.2 1.41-.59l7.78-7.78 2.81-2.81c.8-.78.8-2.07 0-2.86zM5.41 20L4 18.59l7.72-7.72 1.47 1.35L5.41 20z\"/>\n",
              "  </svg>\n",
              "      </button>\n",
              "      \n",
              "  <style>\n",
              "    .colab-df-container {\n",
              "      display:flex;\n",
              "      flex-wrap:wrap;\n",
              "      gap: 12px;\n",
              "    }\n",
              "\n",
              "    .colab-df-convert {\n",
              "      background-color: #E8F0FE;\n",
              "      border: none;\n",
              "      border-radius: 50%;\n",
              "      cursor: pointer;\n",
              "      display: none;\n",
              "      fill: #1967D2;\n",
              "      height: 32px;\n",
              "      padding: 0 0 0 0;\n",
              "      width: 32px;\n",
              "    }\n",
              "\n",
              "    .colab-df-convert:hover {\n",
              "      background-color: #E2EBFA;\n",
              "      box-shadow: 0px 1px 2px rgba(60, 64, 67, 0.3), 0px 1px 3px 1px rgba(60, 64, 67, 0.15);\n",
              "      fill: #174EA6;\n",
              "    }\n",
              "\n",
              "    [theme=dark] .colab-df-convert {\n",
              "      background-color: #3B4455;\n",
              "      fill: #D2E3FC;\n",
              "    }\n",
              "\n",
              "    [theme=dark] .colab-df-convert:hover {\n",
              "      background-color: #434B5C;\n",
              "      box-shadow: 0px 1px 3px 1px rgba(0, 0, 0, 0.15);\n",
              "      filter: drop-shadow(0px 1px 2px rgba(0, 0, 0, 0.3));\n",
              "      fill: #FFFFFF;\n",
              "    }\n",
              "  </style>\n",
              "\n",
              "      <script>\n",
              "        const buttonEl =\n",
              "          document.querySelector('#df-ad6e7555-cf65-4d47-88c3-91ede0c6b868 button.colab-df-convert');\n",
              "        buttonEl.style.display =\n",
              "          google.colab.kernel.accessAllowed ? 'block' : 'none';\n",
              "\n",
              "        async function convertToInteractive(key) {\n",
              "          const element = document.querySelector('#df-ad6e7555-cf65-4d47-88c3-91ede0c6b868');\n",
              "          const dataTable =\n",
              "            await google.colab.kernel.invokeFunction('convertToInteractive',\n",
              "                                                     [key], {});\n",
              "          if (!dataTable) return;\n",
              "\n",
              "          const docLinkHtml = 'Like what you see? Visit the ' +\n",
              "            '<a target=\"_blank\" href=https://colab.research.google.com/notebooks/data_table.ipynb>data table notebook</a>'\n",
              "            + ' to learn more about interactive tables.';\n",
              "          element.innerHTML = '';\n",
              "          dataTable['output_type'] = 'display_data';\n",
              "          await google.colab.output.renderOutput(dataTable, element);\n",
              "          const docLink = document.createElement('div');\n",
              "          docLink.innerHTML = docLinkHtml;\n",
              "          element.appendChild(docLink);\n",
              "        }\n",
              "      </script>\n",
              "    </div>\n",
              "  </div>\n",
              "  "
            ]
          },
          "metadata": {},
          "execution_count": 7
        }
      ],
      "source": [
        "\n",
        "\n",
        "t[t['Type']=='Categorical']"
      ]
    },
    {
      "cell_type": "code",
      "execution_count": 8,
      "id": "9a8424f5",
      "metadata": {
        "colab": {
          "base_uri": "https://localhost:8080/"
        },
        "id": "9a8424f5",
        "outputId": "6248b450-cb75-43c4-fe59-78053c677453"
      },
      "outputs": [
        {
          "output_type": "execute_result",
          "data": {
            "text/plain": [
              "array(['Female', 'Male'], dtype=object)"
            ]
          },
          "metadata": {},
          "execution_count": 8
        }
      ],
      "source": [
        "df['gender'].unique()"
      ]
    },
    {
      "cell_type": "code",
      "execution_count": 9,
      "id": "3e33ca69",
      "metadata": {
        "colab": {
          "base_uri": "https://localhost:8080/"
        },
        "id": "3e33ca69",
        "outputId": "62eecc75-db90-4913-90bf-9b6d8ae68d8a"
      },
      "outputs": [
        {
          "output_type": "execute_result",
          "data": {
            "text/plain": [
              "array(['Yes', 'No'], dtype=object)"
            ]
          },
          "metadata": {},
          "execution_count": 9
        }
      ],
      "source": [
        "df['Partner'].unique()"
      ]
    },
    {
      "cell_type": "code",
      "execution_count": 10,
      "id": "98961ebc",
      "metadata": {
        "colab": {
          "base_uri": "https://localhost:8080/"
        },
        "id": "98961ebc",
        "outputId": "f573414d-358e-4d57-e4a5-ed1bb7867af2"
      },
      "outputs": [
        {
          "output_type": "execute_result",
          "data": {
            "text/plain": [
              "array(['No', 'Yes'], dtype=object)"
            ]
          },
          "metadata": {},
          "execution_count": 10
        }
      ],
      "source": [
        "df['Dependents'].unique()"
      ]
    },
    {
      "cell_type": "code",
      "execution_count": 11,
      "id": "0bc83b24",
      "metadata": {
        "colab": {
          "base_uri": "https://localhost:8080/"
        },
        "id": "0bc83b24",
        "outputId": "7a4ba052-ce30-4d4f-abc4-01e4015f7543"
      },
      "outputs": [
        {
          "output_type": "execute_result",
          "data": {
            "text/plain": [
              "array(['No', 'Yes'], dtype=object)"
            ]
          },
          "metadata": {},
          "execution_count": 11
        }
      ],
      "source": [
        "df['PhoneService'].unique()"
      ]
    },
    {
      "cell_type": "code",
      "execution_count": 12,
      "id": "b27a10ad",
      "metadata": {
        "colab": {
          "base_uri": "https://localhost:8080/"
        },
        "id": "b27a10ad",
        "outputId": "9179e46c-9ec5-4375-baa5-4bb5daf20c70"
      },
      "outputs": [
        {
          "output_type": "execute_result",
          "data": {
            "text/plain": [
              "array(['No phone service', 'No', 'Yes'], dtype=object)"
            ]
          },
          "metadata": {},
          "execution_count": 12
        }
      ],
      "source": [
        "\n",
        "df['MultipleLines'].unique()"
      ]
    },
    {
      "cell_type": "code",
      "execution_count": 13,
      "id": "9d5e48dd",
      "metadata": {
        "colab": {
          "base_uri": "https://localhost:8080/"
        },
        "id": "9d5e48dd",
        "outputId": "22da48f0-5362-4204-a774-6de0f26fee26"
      },
      "outputs": [
        {
          "output_type": "execute_result",
          "data": {
            "text/plain": [
              "array(['DSL', 'Fiber optic', 'No'], dtype=object)"
            ]
          },
          "metadata": {},
          "execution_count": 13
        }
      ],
      "source": [
        "df['InternetService'].unique()"
      ]
    },
    {
      "cell_type": "code",
      "execution_count": 14,
      "id": "42b05139",
      "metadata": {
        "colab": {
          "base_uri": "https://localhost:8080/"
        },
        "id": "42b05139",
        "outputId": "f8128cfd-5400-4ab8-b503-9f270a820cfc"
      },
      "outputs": [
        {
          "output_type": "execute_result",
          "data": {
            "text/plain": [
              "array(['No', 'Yes', 'No internet service'], dtype=object)"
            ]
          },
          "metadata": {},
          "execution_count": 14
        }
      ],
      "source": [
        "\n",
        "df['OnlineSecurity'].unique()"
      ]
    },
    {
      "cell_type": "code",
      "execution_count": 15,
      "id": "a5a51590",
      "metadata": {
        "colab": {
          "base_uri": "https://localhost:8080/"
        },
        "id": "a5a51590",
        "outputId": "e0d06491-824c-4d0f-91b7-f6232168eb1e"
      },
      "outputs": [
        {
          "output_type": "execute_result",
          "data": {
            "text/plain": [
              "array(['Yes', 'No', 'No internet service'], dtype=object)"
            ]
          },
          "metadata": {},
          "execution_count": 15
        }
      ],
      "source": [
        "df['OnlineBackup'].unique()"
      ]
    },
    {
      "cell_type": "code",
      "execution_count": 16,
      "id": "34825df0",
      "metadata": {
        "colab": {
          "base_uri": "https://localhost:8080/"
        },
        "id": "34825df0",
        "outputId": "b0b1c30e-95fd-46f9-8d83-bdcc154a5c95"
      },
      "outputs": [
        {
          "output_type": "execute_result",
          "data": {
            "text/plain": [
              "array(['No', 'Yes', 'No internet service'], dtype=object)"
            ]
          },
          "metadata": {},
          "execution_count": 16
        }
      ],
      "source": [
        "df['DeviceProtection'].unique()"
      ]
    },
    {
      "cell_type": "code",
      "execution_count": 17,
      "id": "e7b90f12",
      "metadata": {
        "colab": {
          "base_uri": "https://localhost:8080/"
        },
        "id": "e7b90f12",
        "outputId": "7510b51f-f302-41d2-fb2b-498bd2d835ec"
      },
      "outputs": [
        {
          "output_type": "execute_result",
          "data": {
            "text/plain": [
              "array(['No', 'Yes', 'No internet service'], dtype=object)"
            ]
          },
          "metadata": {},
          "execution_count": 17
        }
      ],
      "source": [
        "df['TechSupport'].unique()"
      ]
    },
    {
      "cell_type": "code",
      "execution_count": 18,
      "id": "91c4857e",
      "metadata": {
        "colab": {
          "base_uri": "https://localhost:8080/"
        },
        "id": "91c4857e",
        "outputId": "53281696-56b2-4c7c-fe60-c13a6e09d64b"
      },
      "outputs": [
        {
          "output_type": "execute_result",
          "data": {
            "text/plain": [
              "array(['No', 'Yes', 'No internet service'], dtype=object)"
            ]
          },
          "metadata": {},
          "execution_count": 18
        }
      ],
      "source": [
        "df['StreamingTV'].unique()"
      ]
    },
    {
      "cell_type": "code",
      "execution_count": 19,
      "id": "d3426a6f",
      "metadata": {
        "colab": {
          "base_uri": "https://localhost:8080/"
        },
        "id": "d3426a6f",
        "outputId": "ccfb20bb-f57f-4d06-f8f4-be291cd209ac"
      },
      "outputs": [
        {
          "output_type": "execute_result",
          "data": {
            "text/plain": [
              "array(['No', 'Yes', 'No internet service'], dtype=object)"
            ]
          },
          "metadata": {},
          "execution_count": 19
        }
      ],
      "source": [
        "df['StreamingMovies'].unique()"
      ]
    },
    {
      "cell_type": "code",
      "execution_count": 20,
      "id": "597fb267",
      "metadata": {
        "colab": {
          "base_uri": "https://localhost:8080/"
        },
        "id": "597fb267",
        "outputId": "33189624-55bc-4a25-8397-569318ab9941"
      },
      "outputs": [
        {
          "output_type": "execute_result",
          "data": {
            "text/plain": [
              "array(['Month-to-month', 'One year', 'Two year'], dtype=object)"
            ]
          },
          "metadata": {},
          "execution_count": 20
        }
      ],
      "source": [
        "df['Contract'].unique()"
      ]
    },
    {
      "cell_type": "code",
      "execution_count": 21,
      "id": "33426507",
      "metadata": {
        "colab": {
          "base_uri": "https://localhost:8080/"
        },
        "id": "33426507",
        "outputId": "38555cbd-7ef1-4766-c3e5-048e9d82c69f"
      },
      "outputs": [
        {
          "output_type": "execute_result",
          "data": {
            "text/plain": [
              "array(['Yes', 'No'], dtype=object)"
            ]
          },
          "metadata": {},
          "execution_count": 21
        }
      ],
      "source": [
        "\n",
        "\n",
        "df['PaperlessBilling'].unique()"
      ]
    },
    {
      "cell_type": "code",
      "execution_count": 22,
      "id": "ea3c7966",
      "metadata": {
        "colab": {
          "base_uri": "https://localhost:8080/"
        },
        "id": "ea3c7966",
        "outputId": "8ae6921e-01a2-4df1-e3d1-4e267b914283"
      },
      "outputs": [
        {
          "output_type": "execute_result",
          "data": {
            "text/plain": [
              "array(['Electronic check', 'Mailed check', 'Bank transfer (automatic)',\n",
              "       'Credit card (automatic)'], dtype=object)"
            ]
          },
          "metadata": {},
          "execution_count": 22
        }
      ],
      "source": [
        "\n",
        "df['PaymentMethod'].unique()"
      ]
    },
    {
      "cell_type": "code",
      "execution_count": 23,
      "id": "7ea43d45",
      "metadata": {
        "colab": {
          "base_uri": "https://localhost:8080/"
        },
        "id": "7ea43d45",
        "outputId": "12b96a47-c26d-4736-e2fc-8834a96a7990"
      },
      "outputs": [
        {
          "output_type": "execute_result",
          "data": {
            "text/plain": [
              "array(['No', 'Yes'], dtype=object)"
            ]
          },
          "metadata": {},
          "execution_count": 23
        }
      ],
      "source": [
        "df['Churn'].unique()"
      ]
    },
    {
      "cell_type": "code",
      "execution_count": 24,
      "id": "05430e48",
      "metadata": {
        "id": "05430e48"
      },
      "outputs": [],
      "source": [
        "df['MultipleLines'] = df['MultipleLines'].str.replace('No phone service','No')\n",
        "df['OnlineSecurity'] = df['OnlineSecurity'].str.replace('No internet service','No')\n",
        "df['OnlineBackup'] = df['OnlineBackup'].str.replace('No internet service','No')\n",
        "df['DeviceProtection'] = df['DeviceProtection'].str.replace('No internet service','No')\n",
        "df['TechSupport'] = df['TechSupport'].str.replace('No internet service','No')\n",
        "df['StreamingTV'] = df['StreamingTV'].str.replace('No internet service','No')\n",
        "df['StreamingMovies'] = df['StreamingMovies'].str.replace('No internet service','No')"
      ]
    },
    {
      "cell_type": "code",
      "execution_count": 25,
      "id": "161e06d3",
      "metadata": {
        "colab": {
          "base_uri": "https://localhost:8080/"
        },
        "id": "161e06d3",
        "outputId": "97704712-4636-4468-9347-03d865ec7746"
      },
      "outputs": [
        {
          "output_type": "execute_result",
          "data": {
            "text/plain": [
              "array(['No', 'Yes'], dtype=object)"
            ]
          },
          "metadata": {},
          "execution_count": 25
        }
      ],
      "source": [
        "df['MultipleLines'].unique()\n"
      ]
    },
    {
      "cell_type": "code",
      "execution_count": 26,
      "id": "2a75088d",
      "metadata": {
        "colab": {
          "base_uri": "https://localhost:8080/"
        },
        "id": "2a75088d",
        "outputId": "db36ebd4-e68b-4299-9eaa-35e6bcfa9e7f"
      },
      "outputs": [
        {
          "output_type": "execute_result",
          "data": {
            "text/plain": [
              "array(['No', 'Yes'], dtype=object)"
            ]
          },
          "metadata": {},
          "execution_count": 26
        }
      ],
      "source": [
        "\n",
        "df['OnlineSecurity'].unique()"
      ]
    },
    {
      "cell_type": "code",
      "execution_count": 27,
      "id": "2acbe364",
      "metadata": {
        "colab": {
          "base_uri": "https://localhost:8080/"
        },
        "id": "2acbe364",
        "outputId": "b8ed11bb-b7bb-4181-e3d5-0fbedeeec180"
      },
      "outputs": [
        {
          "output_type": "execute_result",
          "data": {
            "text/plain": [
              "array(['Yes', 'No'], dtype=object)"
            ]
          },
          "metadata": {},
          "execution_count": 27
        }
      ],
      "source": [
        "\n",
        "df['OnlineBackup'].unique()"
      ]
    },
    {
      "cell_type": "code",
      "execution_count": 28,
      "id": "f1184dc4",
      "metadata": {
        "colab": {
          "base_uri": "https://localhost:8080/"
        },
        "id": "f1184dc4",
        "outputId": "269783e2-6498-4d34-ad8e-c4888ff7cf94"
      },
      "outputs": [
        {
          "output_type": "execute_result",
          "data": {
            "text/plain": [
              "array(['No', 'Yes'], dtype=object)"
            ]
          },
          "metadata": {},
          "execution_count": 28
        }
      ],
      "source": [
        "\n",
        "df['DeviceProtection'].unique()"
      ]
    },
    {
      "cell_type": "code",
      "execution_count": 29,
      "id": "8a1a7222",
      "metadata": {
        "colab": {
          "base_uri": "https://localhost:8080/"
        },
        "id": "8a1a7222",
        "outputId": "7668deb9-069c-4c96-8e16-c46d8d9a78f5"
      },
      "outputs": [
        {
          "output_type": "execute_result",
          "data": {
            "text/plain": [
              "array(['No', 'Yes'], dtype=object)"
            ]
          },
          "metadata": {},
          "execution_count": 29
        }
      ],
      "source": [
        "\n",
        "df['TechSupport'].unique()"
      ]
    },
    {
      "cell_type": "code",
      "execution_count": 30,
      "id": "f6df2734",
      "metadata": {
        "colab": {
          "base_uri": "https://localhost:8080/"
        },
        "id": "f6df2734",
        "outputId": "75a2f1bf-76b0-4066-f993-b3af6a9b60d3"
      },
      "outputs": [
        {
          "output_type": "execute_result",
          "data": {
            "text/plain": [
              "array(['No', 'Yes'], dtype=object)"
            ]
          },
          "metadata": {},
          "execution_count": 30
        }
      ],
      "source": [
        "\n",
        "df['StreamingTV'].unique()"
      ]
    },
    {
      "cell_type": "code",
      "execution_count": 31,
      "id": "a6f8bce7",
      "metadata": {
        "colab": {
          "base_uri": "https://localhost:8080/"
        },
        "id": "a6f8bce7",
        "outputId": "5073b6f9-ce33-4b75-9ed6-ba3d5e682f34"
      },
      "outputs": [
        {
          "output_type": "execute_result",
          "data": {
            "text/plain": [
              "array(['No', 'Yes'], dtype=object)"
            ]
          },
          "metadata": {},
          "execution_count": 31
        }
      ],
      "source": [
        "\n",
        "df['StreamingMovies'].unique()"
      ]
    },
    {
      "cell_type": "code",
      "execution_count": 32,
      "id": "9327a791",
      "metadata": {
        "id": "9327a791"
      },
      "outputs": [],
      "source": [
        "from sklearn.preprocessing import OrdinalEncoder"
      ]
    },
    {
      "cell_type": "code",
      "execution_count": 33,
      "id": "ecd777af",
      "metadata": {
        "id": "ecd777af"
      },
      "outputs": [],
      "source": [
        "ord1=OrdinalEncoder(categories=[['Yes','No']])\n",
        "ord2=OrdinalEncoder(categories=[['Month-to-month', 'One year', 'Two year']])\n",
        "ord3=OrdinalEncoder(categories=[['Electronic check', 'Mailed check', 'Bank transfer (automatic)','Credit card (automatic)']])\n",
        "ord4=OrdinalEncoder(categories=[['DSL', 'Fiber optic', 'No']])\n",
        "ord5=OrdinalEncoder(categories=[['Female', 'Male']])"
      ]
    },
    {
      "cell_type": "code",
      "execution_count": 34,
      "id": "25f2a387",
      "metadata": {
        "id": "25f2a387"
      },
      "outputs": [],
      "source": [
        "from sklearn.preprocessing import LabelEncoder "
      ]
    },
    {
      "cell_type": "code",
      "execution_count": 35,
      "id": "b4bdcd8a",
      "metadata": {
        "id": "b4bdcd8a"
      },
      "outputs": [],
      "source": [
        "le=LabelEncoder()"
      ]
    },
    {
      "cell_type": "code",
      "execution_count": 36,
      "id": "08eb56a2",
      "metadata": {
        "id": "08eb56a2"
      },
      "outputs": [],
      "source": [
        "df['gender']=ord5.fit_transform(df[['gender']])\n",
        "df['PaymentMethod']=ord3.fit_transform(df[['PaymentMethod']])\n",
        "df['Contract']=ord2.fit_transform(df[['Contract']])\n",
        "df['InternetService']=ord4.fit_transform(df[['InternetService']])"
      ]
    },
    {
      "cell_type": "code",
      "execution_count": 37,
      "id": "4d95386f",
      "metadata": {
        "colab": {
          "base_uri": "https://localhost:8080/"
        },
        "id": "4d95386f",
        "outputId": "2280fde2-615d-48c3-bd74-2ea7eb520cb4"
      },
      "outputs": [
        {
          "output_type": "stream",
          "name": "stderr",
          "text": [
            "/usr/local/lib/python3.7/dist-packages/sklearn/preprocessing/_label.py:115: DataConversionWarning: A column-vector y was passed when a 1d array was expected. Please change the shape of y to (n_samples, ), for example using ravel().\n",
            "  y = column_or_1d(y, warn=True)\n"
          ]
        }
      ],
      "source": [
        "\n",
        "df['MultipleLines']=le.fit_transform(df[['MultipleLines']])\n",
        "df['OnlineSecurity']=le.fit_transform(df[['OnlineSecurity']])\n",
        "df['OnlineBackup']=le.fit_transform(df[['OnlineBackup']])\n",
        "df['DeviceProtection']=le.fit_transform(df[['DeviceProtection']])\n",
        "df['TechSupport']=le.fit_transform(df[['TechSupport']])\n",
        "df['StreamingTV']=le.fit_transform(df[['StreamingTV']])\n",
        "df['StreamingMovies']=le.fit_transform(df[['StreamingMovies']])\n",
        "df['Partner']=le.fit_transform(df[['Partner']])\n",
        "df['Dependents']=le.fit_transform(df[['Dependents']])\n",
        "df['PhoneService']=le.fit_transform(df[['PhoneService']])\n",
        "df['Churn']=le.fit_transform(df[['Churn']])\n",
        "df['PaperlessBilling']=le.fit_transform(df[['PaperlessBilling']])"
      ]
    },
    {
      "cell_type": "code",
      "execution_count": 38,
      "id": "05a6d50e",
      "metadata": {
        "colab": {
          "base_uri": "https://localhost:8080/",
          "height": 644
        },
        "id": "05a6d50e",
        "outputId": "568a5e7f-7218-4996-c42a-93171e937822"
      },
      "outputs": [
        {
          "output_type": "execute_result",
          "data": {
            "text/plain": [
              "      customerID  gender  SeniorCitizen  Partner  Dependents  tenure  \\\n",
              "0     7590-VHVEG     0.0              0        1           0       1   \n",
              "1     5575-GNVDE     1.0              0        0           0      34   \n",
              "2     3668-QPYBK     1.0              0        0           0       2   \n",
              "3     7795-CFOCW     1.0              0        0           0      45   \n",
              "4     9237-HQITU     0.0              0        0           0       2   \n",
              "...          ...     ...            ...      ...         ...     ...   \n",
              "7038  6840-RESVB     1.0              0        1           1      24   \n",
              "7039  2234-XADUH     0.0              0        1           1      72   \n",
              "7040  4801-JZAZL     0.0              0        1           1      11   \n",
              "7041  8361-LTMKD     1.0              1        1           0       4   \n",
              "7042  3186-AJIEK     1.0              0        0           0      66   \n",
              "\n",
              "      PhoneService  MultipleLines  InternetService  OnlineSecurity  ...  \\\n",
              "0                0              0              0.0               0  ...   \n",
              "1                1              0              0.0               1  ...   \n",
              "2                1              0              0.0               1  ...   \n",
              "3                0              0              0.0               1  ...   \n",
              "4                1              0              1.0               0  ...   \n",
              "...            ...            ...              ...             ...  ...   \n",
              "7038             1              1              0.0               1  ...   \n",
              "7039             1              1              1.0               0  ...   \n",
              "7040             0              0              0.0               1  ...   \n",
              "7041             1              1              1.0               0  ...   \n",
              "7042             1              0              1.0               1  ...   \n",
              "\n",
              "      DeviceProtection  TechSupport  StreamingTV  StreamingMovies  Contract  \\\n",
              "0                    0            0            0                0       0.0   \n",
              "1                    1            0            0                0       1.0   \n",
              "2                    0            0            0                0       0.0   \n",
              "3                    1            1            0                0       1.0   \n",
              "4                    0            0            0                0       0.0   \n",
              "...                ...          ...          ...              ...       ...   \n",
              "7038                 1            1            1                1       1.0   \n",
              "7039                 1            0            1                1       1.0   \n",
              "7040                 0            0            0                0       0.0   \n",
              "7041                 0            0            0                0       0.0   \n",
              "7042                 1            1            1                1       2.0   \n",
              "\n",
              "      PaperlessBilling  PaymentMethod  MonthlyCharges  TotalCharges Churn  \n",
              "0                    1            0.0           29.85         29.85     0  \n",
              "1                    0            1.0           56.95        1889.5     0  \n",
              "2                    1            1.0           53.85        108.15     1  \n",
              "3                    0            2.0           42.30       1840.75     0  \n",
              "4                    1            0.0           70.70        151.65     1  \n",
              "...                ...            ...             ...           ...   ...  \n",
              "7038                 1            1.0           84.80        1990.5     0  \n",
              "7039                 1            3.0          103.20        7362.9     0  \n",
              "7040                 1            0.0           29.60        346.45     0  \n",
              "7041                 1            1.0           74.40         306.6     1  \n",
              "7042                 1            2.0          105.65        6844.5     0  \n",
              "\n",
              "[7043 rows x 21 columns]"
            ],
            "text/html": [
              "\n",
              "  <div id=\"df-a80ed08b-78eb-4da2-b6e5-48ca0d956e4a\">\n",
              "    <div class=\"colab-df-container\">\n",
              "      <div>\n",
              "<style scoped>\n",
              "    .dataframe tbody tr th:only-of-type {\n",
              "        vertical-align: middle;\n",
              "    }\n",
              "\n",
              "    .dataframe tbody tr th {\n",
              "        vertical-align: top;\n",
              "    }\n",
              "\n",
              "    .dataframe thead th {\n",
              "        text-align: right;\n",
              "    }\n",
              "</style>\n",
              "<table border=\"1\" class=\"dataframe\">\n",
              "  <thead>\n",
              "    <tr style=\"text-align: right;\">\n",
              "      <th></th>\n",
              "      <th>customerID</th>\n",
              "      <th>gender</th>\n",
              "      <th>SeniorCitizen</th>\n",
              "      <th>Partner</th>\n",
              "      <th>Dependents</th>\n",
              "      <th>tenure</th>\n",
              "      <th>PhoneService</th>\n",
              "      <th>MultipleLines</th>\n",
              "      <th>InternetService</th>\n",
              "      <th>OnlineSecurity</th>\n",
              "      <th>...</th>\n",
              "      <th>DeviceProtection</th>\n",
              "      <th>TechSupport</th>\n",
              "      <th>StreamingTV</th>\n",
              "      <th>StreamingMovies</th>\n",
              "      <th>Contract</th>\n",
              "      <th>PaperlessBilling</th>\n",
              "      <th>PaymentMethod</th>\n",
              "      <th>MonthlyCharges</th>\n",
              "      <th>TotalCharges</th>\n",
              "      <th>Churn</th>\n",
              "    </tr>\n",
              "  </thead>\n",
              "  <tbody>\n",
              "    <tr>\n",
              "      <th>0</th>\n",
              "      <td>7590-VHVEG</td>\n",
              "      <td>0.0</td>\n",
              "      <td>0</td>\n",
              "      <td>1</td>\n",
              "      <td>0</td>\n",
              "      <td>1</td>\n",
              "      <td>0</td>\n",
              "      <td>0</td>\n",
              "      <td>0.0</td>\n",
              "      <td>0</td>\n",
              "      <td>...</td>\n",
              "      <td>0</td>\n",
              "      <td>0</td>\n",
              "      <td>0</td>\n",
              "      <td>0</td>\n",
              "      <td>0.0</td>\n",
              "      <td>1</td>\n",
              "      <td>0.0</td>\n",
              "      <td>29.85</td>\n",
              "      <td>29.85</td>\n",
              "      <td>0</td>\n",
              "    </tr>\n",
              "    <tr>\n",
              "      <th>1</th>\n",
              "      <td>5575-GNVDE</td>\n",
              "      <td>1.0</td>\n",
              "      <td>0</td>\n",
              "      <td>0</td>\n",
              "      <td>0</td>\n",
              "      <td>34</td>\n",
              "      <td>1</td>\n",
              "      <td>0</td>\n",
              "      <td>0.0</td>\n",
              "      <td>1</td>\n",
              "      <td>...</td>\n",
              "      <td>1</td>\n",
              "      <td>0</td>\n",
              "      <td>0</td>\n",
              "      <td>0</td>\n",
              "      <td>1.0</td>\n",
              "      <td>0</td>\n",
              "      <td>1.0</td>\n",
              "      <td>56.95</td>\n",
              "      <td>1889.5</td>\n",
              "      <td>0</td>\n",
              "    </tr>\n",
              "    <tr>\n",
              "      <th>2</th>\n",
              "      <td>3668-QPYBK</td>\n",
              "      <td>1.0</td>\n",
              "      <td>0</td>\n",
              "      <td>0</td>\n",
              "      <td>0</td>\n",
              "      <td>2</td>\n",
              "      <td>1</td>\n",
              "      <td>0</td>\n",
              "      <td>0.0</td>\n",
              "      <td>1</td>\n",
              "      <td>...</td>\n",
              "      <td>0</td>\n",
              "      <td>0</td>\n",
              "      <td>0</td>\n",
              "      <td>0</td>\n",
              "      <td>0.0</td>\n",
              "      <td>1</td>\n",
              "      <td>1.0</td>\n",
              "      <td>53.85</td>\n",
              "      <td>108.15</td>\n",
              "      <td>1</td>\n",
              "    </tr>\n",
              "    <tr>\n",
              "      <th>3</th>\n",
              "      <td>7795-CFOCW</td>\n",
              "      <td>1.0</td>\n",
              "      <td>0</td>\n",
              "      <td>0</td>\n",
              "      <td>0</td>\n",
              "      <td>45</td>\n",
              "      <td>0</td>\n",
              "      <td>0</td>\n",
              "      <td>0.0</td>\n",
              "      <td>1</td>\n",
              "      <td>...</td>\n",
              "      <td>1</td>\n",
              "      <td>1</td>\n",
              "      <td>0</td>\n",
              "      <td>0</td>\n",
              "      <td>1.0</td>\n",
              "      <td>0</td>\n",
              "      <td>2.0</td>\n",
              "      <td>42.30</td>\n",
              "      <td>1840.75</td>\n",
              "      <td>0</td>\n",
              "    </tr>\n",
              "    <tr>\n",
              "      <th>4</th>\n",
              "      <td>9237-HQITU</td>\n",
              "      <td>0.0</td>\n",
              "      <td>0</td>\n",
              "      <td>0</td>\n",
              "      <td>0</td>\n",
              "      <td>2</td>\n",
              "      <td>1</td>\n",
              "      <td>0</td>\n",
              "      <td>1.0</td>\n",
              "      <td>0</td>\n",
              "      <td>...</td>\n",
              "      <td>0</td>\n",
              "      <td>0</td>\n",
              "      <td>0</td>\n",
              "      <td>0</td>\n",
              "      <td>0.0</td>\n",
              "      <td>1</td>\n",
              "      <td>0.0</td>\n",
              "      <td>70.70</td>\n",
              "      <td>151.65</td>\n",
              "      <td>1</td>\n",
              "    </tr>\n",
              "    <tr>\n",
              "      <th>...</th>\n",
              "      <td>...</td>\n",
              "      <td>...</td>\n",
              "      <td>...</td>\n",
              "      <td>...</td>\n",
              "      <td>...</td>\n",
              "      <td>...</td>\n",
              "      <td>...</td>\n",
              "      <td>...</td>\n",
              "      <td>...</td>\n",
              "      <td>...</td>\n",
              "      <td>...</td>\n",
              "      <td>...</td>\n",
              "      <td>...</td>\n",
              "      <td>...</td>\n",
              "      <td>...</td>\n",
              "      <td>...</td>\n",
              "      <td>...</td>\n",
              "      <td>...</td>\n",
              "      <td>...</td>\n",
              "      <td>...</td>\n",
              "      <td>...</td>\n",
              "    </tr>\n",
              "    <tr>\n",
              "      <th>7038</th>\n",
              "      <td>6840-RESVB</td>\n",
              "      <td>1.0</td>\n",
              "      <td>0</td>\n",
              "      <td>1</td>\n",
              "      <td>1</td>\n",
              "      <td>24</td>\n",
              "      <td>1</td>\n",
              "      <td>1</td>\n",
              "      <td>0.0</td>\n",
              "      <td>1</td>\n",
              "      <td>...</td>\n",
              "      <td>1</td>\n",
              "      <td>1</td>\n",
              "      <td>1</td>\n",
              "      <td>1</td>\n",
              "      <td>1.0</td>\n",
              "      <td>1</td>\n",
              "      <td>1.0</td>\n",
              "      <td>84.80</td>\n",
              "      <td>1990.5</td>\n",
              "      <td>0</td>\n",
              "    </tr>\n",
              "    <tr>\n",
              "      <th>7039</th>\n",
              "      <td>2234-XADUH</td>\n",
              "      <td>0.0</td>\n",
              "      <td>0</td>\n",
              "      <td>1</td>\n",
              "      <td>1</td>\n",
              "      <td>72</td>\n",
              "      <td>1</td>\n",
              "      <td>1</td>\n",
              "      <td>1.0</td>\n",
              "      <td>0</td>\n",
              "      <td>...</td>\n",
              "      <td>1</td>\n",
              "      <td>0</td>\n",
              "      <td>1</td>\n",
              "      <td>1</td>\n",
              "      <td>1.0</td>\n",
              "      <td>1</td>\n",
              "      <td>3.0</td>\n",
              "      <td>103.20</td>\n",
              "      <td>7362.9</td>\n",
              "      <td>0</td>\n",
              "    </tr>\n",
              "    <tr>\n",
              "      <th>7040</th>\n",
              "      <td>4801-JZAZL</td>\n",
              "      <td>0.0</td>\n",
              "      <td>0</td>\n",
              "      <td>1</td>\n",
              "      <td>1</td>\n",
              "      <td>11</td>\n",
              "      <td>0</td>\n",
              "      <td>0</td>\n",
              "      <td>0.0</td>\n",
              "      <td>1</td>\n",
              "      <td>...</td>\n",
              "      <td>0</td>\n",
              "      <td>0</td>\n",
              "      <td>0</td>\n",
              "      <td>0</td>\n",
              "      <td>0.0</td>\n",
              "      <td>1</td>\n",
              "      <td>0.0</td>\n",
              "      <td>29.60</td>\n",
              "      <td>346.45</td>\n",
              "      <td>0</td>\n",
              "    </tr>\n",
              "    <tr>\n",
              "      <th>7041</th>\n",
              "      <td>8361-LTMKD</td>\n",
              "      <td>1.0</td>\n",
              "      <td>1</td>\n",
              "      <td>1</td>\n",
              "      <td>0</td>\n",
              "      <td>4</td>\n",
              "      <td>1</td>\n",
              "      <td>1</td>\n",
              "      <td>1.0</td>\n",
              "      <td>0</td>\n",
              "      <td>...</td>\n",
              "      <td>0</td>\n",
              "      <td>0</td>\n",
              "      <td>0</td>\n",
              "      <td>0</td>\n",
              "      <td>0.0</td>\n",
              "      <td>1</td>\n",
              "      <td>1.0</td>\n",
              "      <td>74.40</td>\n",
              "      <td>306.6</td>\n",
              "      <td>1</td>\n",
              "    </tr>\n",
              "    <tr>\n",
              "      <th>7042</th>\n",
              "      <td>3186-AJIEK</td>\n",
              "      <td>1.0</td>\n",
              "      <td>0</td>\n",
              "      <td>0</td>\n",
              "      <td>0</td>\n",
              "      <td>66</td>\n",
              "      <td>1</td>\n",
              "      <td>0</td>\n",
              "      <td>1.0</td>\n",
              "      <td>1</td>\n",
              "      <td>...</td>\n",
              "      <td>1</td>\n",
              "      <td>1</td>\n",
              "      <td>1</td>\n",
              "      <td>1</td>\n",
              "      <td>2.0</td>\n",
              "      <td>1</td>\n",
              "      <td>2.0</td>\n",
              "      <td>105.65</td>\n",
              "      <td>6844.5</td>\n",
              "      <td>0</td>\n",
              "    </tr>\n",
              "  </tbody>\n",
              "</table>\n",
              "<p>7043 rows × 21 columns</p>\n",
              "</div>\n",
              "      <button class=\"colab-df-convert\" onclick=\"convertToInteractive('df-a80ed08b-78eb-4da2-b6e5-48ca0d956e4a')\"\n",
              "              title=\"Convert this dataframe to an interactive table.\"\n",
              "              style=\"display:none;\">\n",
              "        \n",
              "  <svg xmlns=\"http://www.w3.org/2000/svg\" height=\"24px\"viewBox=\"0 0 24 24\"\n",
              "       width=\"24px\">\n",
              "    <path d=\"M0 0h24v24H0V0z\" fill=\"none\"/>\n",
              "    <path d=\"M18.56 5.44l.94 2.06.94-2.06 2.06-.94-2.06-.94-.94-2.06-.94 2.06-2.06.94zm-11 1L8.5 8.5l.94-2.06 2.06-.94-2.06-.94L8.5 2.5l-.94 2.06-2.06.94zm10 10l.94 2.06.94-2.06 2.06-.94-2.06-.94-.94-2.06-.94 2.06-2.06.94z\"/><path d=\"M17.41 7.96l-1.37-1.37c-.4-.4-.92-.59-1.43-.59-.52 0-1.04.2-1.43.59L10.3 9.45l-7.72 7.72c-.78.78-.78 2.05 0 2.83L4 21.41c.39.39.9.59 1.41.59.51 0 1.02-.2 1.41-.59l7.78-7.78 2.81-2.81c.8-.78.8-2.07 0-2.86zM5.41 20L4 18.59l7.72-7.72 1.47 1.35L5.41 20z\"/>\n",
              "  </svg>\n",
              "      </button>\n",
              "      \n",
              "  <style>\n",
              "    .colab-df-container {\n",
              "      display:flex;\n",
              "      flex-wrap:wrap;\n",
              "      gap: 12px;\n",
              "    }\n",
              "\n",
              "    .colab-df-convert {\n",
              "      background-color: #E8F0FE;\n",
              "      border: none;\n",
              "      border-radius: 50%;\n",
              "      cursor: pointer;\n",
              "      display: none;\n",
              "      fill: #1967D2;\n",
              "      height: 32px;\n",
              "      padding: 0 0 0 0;\n",
              "      width: 32px;\n",
              "    }\n",
              "\n",
              "    .colab-df-convert:hover {\n",
              "      background-color: #E2EBFA;\n",
              "      box-shadow: 0px 1px 2px rgba(60, 64, 67, 0.3), 0px 1px 3px 1px rgba(60, 64, 67, 0.15);\n",
              "      fill: #174EA6;\n",
              "    }\n",
              "\n",
              "    [theme=dark] .colab-df-convert {\n",
              "      background-color: #3B4455;\n",
              "      fill: #D2E3FC;\n",
              "    }\n",
              "\n",
              "    [theme=dark] .colab-df-convert:hover {\n",
              "      background-color: #434B5C;\n",
              "      box-shadow: 0px 1px 3px 1px rgba(0, 0, 0, 0.15);\n",
              "      filter: drop-shadow(0px 1px 2px rgba(0, 0, 0, 0.3));\n",
              "      fill: #FFFFFF;\n",
              "    }\n",
              "  </style>\n",
              "\n",
              "      <script>\n",
              "        const buttonEl =\n",
              "          document.querySelector('#df-a80ed08b-78eb-4da2-b6e5-48ca0d956e4a button.colab-df-convert');\n",
              "        buttonEl.style.display =\n",
              "          google.colab.kernel.accessAllowed ? 'block' : 'none';\n",
              "\n",
              "        async function convertToInteractive(key) {\n",
              "          const element = document.querySelector('#df-a80ed08b-78eb-4da2-b6e5-48ca0d956e4a');\n",
              "          const dataTable =\n",
              "            await google.colab.kernel.invokeFunction('convertToInteractive',\n",
              "                                                     [key], {});\n",
              "          if (!dataTable) return;\n",
              "\n",
              "          const docLinkHtml = 'Like what you see? Visit the ' +\n",
              "            '<a target=\"_blank\" href=https://colab.research.google.com/notebooks/data_table.ipynb>data table notebook</a>'\n",
              "            + ' to learn more about interactive tables.';\n",
              "          element.innerHTML = '';\n",
              "          dataTable['output_type'] = 'display_data';\n",
              "          await google.colab.output.renderOutput(dataTable, element);\n",
              "          const docLink = document.createElement('div');\n",
              "          docLink.innerHTML = docLinkHtml;\n",
              "          element.appendChild(docLink);\n",
              "        }\n",
              "      </script>\n",
              "    </div>\n",
              "  </div>\n",
              "  "
            ]
          },
          "metadata": {},
          "execution_count": 38
        }
      ],
      "source": [
        "df"
      ]
    },
    {
      "cell_type": "code",
      "execution_count": 39,
      "id": "8d85daf3",
      "metadata": {
        "colab": {
          "base_uri": "https://localhost:8080/",
          "height": 709
        },
        "id": "8d85daf3",
        "outputId": "17fac002-ddc9-46c3-82b8-38b5a9569aa5"
      },
      "outputs": [
        {
          "output_type": "execute_result",
          "data": {
            "text/plain": [
              "                    gender  SeniorCitizen   Partner  Dependents    tenure  \\\n",
              "gender            1.000000      -0.001874 -0.001808    0.010517  0.005106   \n",
              "SeniorCitizen    -0.001874       1.000000  0.016479   -0.211185  0.016567   \n",
              "Partner          -0.001808       0.016479  1.000000    0.452676  0.379697   \n",
              "Dependents        0.010517      -0.211185  0.452676    1.000000  0.159712   \n",
              "tenure            0.005106       0.016567  0.379697    0.159712  1.000000   \n",
              "PhoneService     -0.006488       0.008576  0.017706   -0.001762  0.008448   \n",
              "MultipleLines    -0.008414       0.142948  0.142057   -0.024526  0.331941   \n",
              "InternetService  -0.000863      -0.032310  0.000891    0.044590 -0.030359   \n",
              "OnlineSecurity   -0.017021      -0.038653  0.143106    0.080972  0.327203   \n",
              "OnlineBackup     -0.013773       0.066572  0.141498    0.023671  0.360277   \n",
              "DeviceProtection -0.002105       0.059428  0.153786    0.013963  0.360653   \n",
              "TechSupport      -0.009212      -0.060625  0.119999    0.063268  0.324221   \n",
              "StreamingTV      -0.008393       0.105378  0.124666   -0.016558  0.279756   \n",
              "StreamingMovies  -0.010487       0.120176  0.117412   -0.039741  0.286111   \n",
              "Contract          0.000126      -0.142554  0.294806    0.243187  0.671607   \n",
              "PaperlessBilling -0.011754       0.156530 -0.014877   -0.111377  0.006152   \n",
              "PaymentMethod    -0.005209      -0.093704  0.133115    0.123844  0.340305   \n",
              "MonthlyCharges   -0.014569       0.220173  0.096848   -0.113890  0.247900   \n",
              "Churn            -0.008612       0.150889 -0.150448   -0.164221 -0.352229   \n",
              "\n",
              "                  PhoneService  MultipleLines  InternetService  \\\n",
              "gender               -0.006488      -0.008414        -0.000863   \n",
              "SeniorCitizen         0.008576       0.142948        -0.032310   \n",
              "Partner               0.017706       0.142057         0.000891   \n",
              "Dependents           -0.001762      -0.024526         0.044590   \n",
              "tenure                0.008448       0.331941        -0.030359   \n",
              "PhoneService          1.000000       0.279690         0.387436   \n",
              "MultipleLines         0.279690       1.000000         0.011124   \n",
              "InternetService       0.387436       0.011124         1.000000   \n",
              "OnlineSecurity       -0.092893       0.098108        -0.393013   \n",
              "OnlineBackup         -0.052312       0.202237        -0.314737   \n",
              "DeviceProtection     -0.071227       0.201137        -0.306805   \n",
              "TechSupport          -0.096340       0.100571        -0.389382   \n",
              "StreamingTV          -0.022574       0.257152        -0.242532   \n",
              "StreamingMovies      -0.032959       0.258751        -0.250343   \n",
              "Contract              0.002247       0.107114         0.099721   \n",
              "PaperlessBilling      0.016505       0.163530        -0.138625   \n",
              "PaymentMethod        -0.004070       0.035851         0.008124   \n",
              "MonthlyCharges        0.247398       0.490434        -0.323260   \n",
              "Churn                 0.011942       0.040102        -0.047291   \n",
              "\n",
              "                  OnlineSecurity  OnlineBackup  DeviceProtection  TechSupport  \\\n",
              "gender                 -0.017021     -0.013773         -0.002105    -0.009212   \n",
              "SeniorCitizen          -0.038653      0.066572          0.059428    -0.060625   \n",
              "Partner                 0.143106      0.141498          0.153786     0.119999   \n",
              "Dependents              0.080972      0.023671          0.013963     0.063268   \n",
              "tenure                  0.327203      0.360277          0.360653     0.324221   \n",
              "PhoneService           -0.092893     -0.052312         -0.071227    -0.096340   \n",
              "MultipleLines           0.098108      0.202237          0.201137     0.100571   \n",
              "InternetService        -0.393013     -0.314737         -0.306805    -0.389382   \n",
              "OnlineSecurity          1.000000      0.283832          0.275438     0.354931   \n",
              "OnlineBackup            0.283832      1.000000          0.303546     0.294233   \n",
              "DeviceProtection        0.275438      0.303546          1.000000     0.333313   \n",
              "TechSupport             0.354931      0.294233          0.333313     1.000000   \n",
              "StreamingTV             0.176207      0.282106          0.390874     0.278070   \n",
              "StreamingMovies         0.187398      0.274501          0.402111     0.279358   \n",
              "Contract                0.245530      0.155085          0.219310     0.293691   \n",
              "PaperlessBilling       -0.003636      0.126735          0.103797     0.037880   \n",
              "PaymentMethod           0.163367      0.096550          0.111241     0.167701   \n",
              "MonthlyCharges          0.296594      0.441780          0.482692     0.338304   \n",
              "Churn                  -0.171226     -0.082255         -0.066160    -0.164674   \n",
              "\n",
              "                  StreamingTV  StreamingMovies  Contract  PaperlessBilling  \\\n",
              "gender              -0.008393        -0.010487  0.000126         -0.011754   \n",
              "SeniorCitizen        0.105378         0.120176 -0.142554          0.156530   \n",
              "Partner              0.124666         0.117412  0.294806         -0.014877   \n",
              "Dependents          -0.016558        -0.039741  0.243187         -0.111377   \n",
              "tenure               0.279756         0.286111  0.671607          0.006152   \n",
              "PhoneService        -0.022574        -0.032959  0.002247          0.016505   \n",
              "MultipleLines        0.257152         0.258751  0.107114          0.163530   \n",
              "InternetService     -0.242532        -0.250343  0.099721         -0.138625   \n",
              "OnlineSecurity       0.176207         0.187398  0.245530         -0.003636   \n",
              "OnlineBackup         0.282106         0.274501  0.155085          0.126735   \n",
              "DeviceProtection     0.390874         0.402111  0.219310          0.103797   \n",
              "TechSupport          0.278070         0.279358  0.293691          0.037880   \n",
              "StreamingTV          1.000000         0.533094  0.103944          0.223841   \n",
              "StreamingMovies      0.533094         1.000000  0.107520          0.211716   \n",
              "Contract             0.103944         0.107520  1.000000         -0.176733   \n",
              "PaperlessBilling     0.223841         0.211716 -0.176733          1.000000   \n",
              "PaymentMethod       -0.013826        -0.004390  0.358913         -0.101480   \n",
              "MonthlyCharges       0.629603         0.627429 -0.074195          0.352150   \n",
              "Churn                0.063228         0.061382 -0.396713          0.191825   \n",
              "\n",
              "                  PaymentMethod  MonthlyCharges     Churn  \n",
              "gender                -0.005209       -0.014569 -0.008612  \n",
              "SeniorCitizen         -0.093704        0.220173  0.150889  \n",
              "Partner                0.133115        0.096848 -0.150448  \n",
              "Dependents             0.123844       -0.113890 -0.164221  \n",
              "tenure                 0.340305        0.247900 -0.352229  \n",
              "PhoneService          -0.004070        0.247398  0.011942  \n",
              "MultipleLines          0.035851        0.490434  0.040102  \n",
              "InternetService        0.008124       -0.323260 -0.047291  \n",
              "OnlineSecurity         0.163367        0.296594 -0.171226  \n",
              "OnlineBackup           0.096550        0.441780 -0.082255  \n",
              "DeviceProtection       0.111241        0.482692 -0.066160  \n",
              "TechSupport            0.167701        0.338304 -0.164674  \n",
              "StreamingTV           -0.013826        0.629603  0.063228  \n",
              "StreamingMovies       -0.004390        0.627429  0.061382  \n",
              "Contract               0.358913       -0.074195 -0.396713  \n",
              "PaperlessBilling      -0.101480        0.352150  0.191825  \n",
              "PaymentMethod          1.000000       -0.074353 -0.262818  \n",
              "MonthlyCharges        -0.074353        1.000000  0.193356  \n",
              "Churn                 -0.262818        0.193356  1.000000  "
            ],
            "text/html": [
              "\n",
              "  <div id=\"df-4570c9f1-515f-4acb-8222-572e16386ed1\">\n",
              "    <div class=\"colab-df-container\">\n",
              "      <div>\n",
              "<style scoped>\n",
              "    .dataframe tbody tr th:only-of-type {\n",
              "        vertical-align: middle;\n",
              "    }\n",
              "\n",
              "    .dataframe tbody tr th {\n",
              "        vertical-align: top;\n",
              "    }\n",
              "\n",
              "    .dataframe thead th {\n",
              "        text-align: right;\n",
              "    }\n",
              "</style>\n",
              "<table border=\"1\" class=\"dataframe\">\n",
              "  <thead>\n",
              "    <tr style=\"text-align: right;\">\n",
              "      <th></th>\n",
              "      <th>gender</th>\n",
              "      <th>SeniorCitizen</th>\n",
              "      <th>Partner</th>\n",
              "      <th>Dependents</th>\n",
              "      <th>tenure</th>\n",
              "      <th>PhoneService</th>\n",
              "      <th>MultipleLines</th>\n",
              "      <th>InternetService</th>\n",
              "      <th>OnlineSecurity</th>\n",
              "      <th>OnlineBackup</th>\n",
              "      <th>DeviceProtection</th>\n",
              "      <th>TechSupport</th>\n",
              "      <th>StreamingTV</th>\n",
              "      <th>StreamingMovies</th>\n",
              "      <th>Contract</th>\n",
              "      <th>PaperlessBilling</th>\n",
              "      <th>PaymentMethod</th>\n",
              "      <th>MonthlyCharges</th>\n",
              "      <th>Churn</th>\n",
              "    </tr>\n",
              "  </thead>\n",
              "  <tbody>\n",
              "    <tr>\n",
              "      <th>gender</th>\n",
              "      <td>1.000000</td>\n",
              "      <td>-0.001874</td>\n",
              "      <td>-0.001808</td>\n",
              "      <td>0.010517</td>\n",
              "      <td>0.005106</td>\n",
              "      <td>-0.006488</td>\n",
              "      <td>-0.008414</td>\n",
              "      <td>-0.000863</td>\n",
              "      <td>-0.017021</td>\n",
              "      <td>-0.013773</td>\n",
              "      <td>-0.002105</td>\n",
              "      <td>-0.009212</td>\n",
              "      <td>-0.008393</td>\n",
              "      <td>-0.010487</td>\n",
              "      <td>0.000126</td>\n",
              "      <td>-0.011754</td>\n",
              "      <td>-0.005209</td>\n",
              "      <td>-0.014569</td>\n",
              "      <td>-0.008612</td>\n",
              "    </tr>\n",
              "    <tr>\n",
              "      <th>SeniorCitizen</th>\n",
              "      <td>-0.001874</td>\n",
              "      <td>1.000000</td>\n",
              "      <td>0.016479</td>\n",
              "      <td>-0.211185</td>\n",
              "      <td>0.016567</td>\n",
              "      <td>0.008576</td>\n",
              "      <td>0.142948</td>\n",
              "      <td>-0.032310</td>\n",
              "      <td>-0.038653</td>\n",
              "      <td>0.066572</td>\n",
              "      <td>0.059428</td>\n",
              "      <td>-0.060625</td>\n",
              "      <td>0.105378</td>\n",
              "      <td>0.120176</td>\n",
              "      <td>-0.142554</td>\n",
              "      <td>0.156530</td>\n",
              "      <td>-0.093704</td>\n",
              "      <td>0.220173</td>\n",
              "      <td>0.150889</td>\n",
              "    </tr>\n",
              "    <tr>\n",
              "      <th>Partner</th>\n",
              "      <td>-0.001808</td>\n",
              "      <td>0.016479</td>\n",
              "      <td>1.000000</td>\n",
              "      <td>0.452676</td>\n",
              "      <td>0.379697</td>\n",
              "      <td>0.017706</td>\n",
              "      <td>0.142057</td>\n",
              "      <td>0.000891</td>\n",
              "      <td>0.143106</td>\n",
              "      <td>0.141498</td>\n",
              "      <td>0.153786</td>\n",
              "      <td>0.119999</td>\n",
              "      <td>0.124666</td>\n",
              "      <td>0.117412</td>\n",
              "      <td>0.294806</td>\n",
              "      <td>-0.014877</td>\n",
              "      <td>0.133115</td>\n",
              "      <td>0.096848</td>\n",
              "      <td>-0.150448</td>\n",
              "    </tr>\n",
              "    <tr>\n",
              "      <th>Dependents</th>\n",
              "      <td>0.010517</td>\n",
              "      <td>-0.211185</td>\n",
              "      <td>0.452676</td>\n",
              "      <td>1.000000</td>\n",
              "      <td>0.159712</td>\n",
              "      <td>-0.001762</td>\n",
              "      <td>-0.024526</td>\n",
              "      <td>0.044590</td>\n",
              "      <td>0.080972</td>\n",
              "      <td>0.023671</td>\n",
              "      <td>0.013963</td>\n",
              "      <td>0.063268</td>\n",
              "      <td>-0.016558</td>\n",
              "      <td>-0.039741</td>\n",
              "      <td>0.243187</td>\n",
              "      <td>-0.111377</td>\n",
              "      <td>0.123844</td>\n",
              "      <td>-0.113890</td>\n",
              "      <td>-0.164221</td>\n",
              "    </tr>\n",
              "    <tr>\n",
              "      <th>tenure</th>\n",
              "      <td>0.005106</td>\n",
              "      <td>0.016567</td>\n",
              "      <td>0.379697</td>\n",
              "      <td>0.159712</td>\n",
              "      <td>1.000000</td>\n",
              "      <td>0.008448</td>\n",
              "      <td>0.331941</td>\n",
              "      <td>-0.030359</td>\n",
              "      <td>0.327203</td>\n",
              "      <td>0.360277</td>\n",
              "      <td>0.360653</td>\n",
              "      <td>0.324221</td>\n",
              "      <td>0.279756</td>\n",
              "      <td>0.286111</td>\n",
              "      <td>0.671607</td>\n",
              "      <td>0.006152</td>\n",
              "      <td>0.340305</td>\n",
              "      <td>0.247900</td>\n",
              "      <td>-0.352229</td>\n",
              "    </tr>\n",
              "    <tr>\n",
              "      <th>PhoneService</th>\n",
              "      <td>-0.006488</td>\n",
              "      <td>0.008576</td>\n",
              "      <td>0.017706</td>\n",
              "      <td>-0.001762</td>\n",
              "      <td>0.008448</td>\n",
              "      <td>1.000000</td>\n",
              "      <td>0.279690</td>\n",
              "      <td>0.387436</td>\n",
              "      <td>-0.092893</td>\n",
              "      <td>-0.052312</td>\n",
              "      <td>-0.071227</td>\n",
              "      <td>-0.096340</td>\n",
              "      <td>-0.022574</td>\n",
              "      <td>-0.032959</td>\n",
              "      <td>0.002247</td>\n",
              "      <td>0.016505</td>\n",
              "      <td>-0.004070</td>\n",
              "      <td>0.247398</td>\n",
              "      <td>0.011942</td>\n",
              "    </tr>\n",
              "    <tr>\n",
              "      <th>MultipleLines</th>\n",
              "      <td>-0.008414</td>\n",
              "      <td>0.142948</td>\n",
              "      <td>0.142057</td>\n",
              "      <td>-0.024526</td>\n",
              "      <td>0.331941</td>\n",
              "      <td>0.279690</td>\n",
              "      <td>1.000000</td>\n",
              "      <td>0.011124</td>\n",
              "      <td>0.098108</td>\n",
              "      <td>0.202237</td>\n",
              "      <td>0.201137</td>\n",
              "      <td>0.100571</td>\n",
              "      <td>0.257152</td>\n",
              "      <td>0.258751</td>\n",
              "      <td>0.107114</td>\n",
              "      <td>0.163530</td>\n",
              "      <td>0.035851</td>\n",
              "      <td>0.490434</td>\n",
              "      <td>0.040102</td>\n",
              "    </tr>\n",
              "    <tr>\n",
              "      <th>InternetService</th>\n",
              "      <td>-0.000863</td>\n",
              "      <td>-0.032310</td>\n",
              "      <td>0.000891</td>\n",
              "      <td>0.044590</td>\n",
              "      <td>-0.030359</td>\n",
              "      <td>0.387436</td>\n",
              "      <td>0.011124</td>\n",
              "      <td>1.000000</td>\n",
              "      <td>-0.393013</td>\n",
              "      <td>-0.314737</td>\n",
              "      <td>-0.306805</td>\n",
              "      <td>-0.389382</td>\n",
              "      <td>-0.242532</td>\n",
              "      <td>-0.250343</td>\n",
              "      <td>0.099721</td>\n",
              "      <td>-0.138625</td>\n",
              "      <td>0.008124</td>\n",
              "      <td>-0.323260</td>\n",
              "      <td>-0.047291</td>\n",
              "    </tr>\n",
              "    <tr>\n",
              "      <th>OnlineSecurity</th>\n",
              "      <td>-0.017021</td>\n",
              "      <td>-0.038653</td>\n",
              "      <td>0.143106</td>\n",
              "      <td>0.080972</td>\n",
              "      <td>0.327203</td>\n",
              "      <td>-0.092893</td>\n",
              "      <td>0.098108</td>\n",
              "      <td>-0.393013</td>\n",
              "      <td>1.000000</td>\n",
              "      <td>0.283832</td>\n",
              "      <td>0.275438</td>\n",
              "      <td>0.354931</td>\n",
              "      <td>0.176207</td>\n",
              "      <td>0.187398</td>\n",
              "      <td>0.245530</td>\n",
              "      <td>-0.003636</td>\n",
              "      <td>0.163367</td>\n",
              "      <td>0.296594</td>\n",
              "      <td>-0.171226</td>\n",
              "    </tr>\n",
              "    <tr>\n",
              "      <th>OnlineBackup</th>\n",
              "      <td>-0.013773</td>\n",
              "      <td>0.066572</td>\n",
              "      <td>0.141498</td>\n",
              "      <td>0.023671</td>\n",
              "      <td>0.360277</td>\n",
              "      <td>-0.052312</td>\n",
              "      <td>0.202237</td>\n",
              "      <td>-0.314737</td>\n",
              "      <td>0.283832</td>\n",
              "      <td>1.000000</td>\n",
              "      <td>0.303546</td>\n",
              "      <td>0.294233</td>\n",
              "      <td>0.282106</td>\n",
              "      <td>0.274501</td>\n",
              "      <td>0.155085</td>\n",
              "      <td>0.126735</td>\n",
              "      <td>0.096550</td>\n",
              "      <td>0.441780</td>\n",
              "      <td>-0.082255</td>\n",
              "    </tr>\n",
              "    <tr>\n",
              "      <th>DeviceProtection</th>\n",
              "      <td>-0.002105</td>\n",
              "      <td>0.059428</td>\n",
              "      <td>0.153786</td>\n",
              "      <td>0.013963</td>\n",
              "      <td>0.360653</td>\n",
              "      <td>-0.071227</td>\n",
              "      <td>0.201137</td>\n",
              "      <td>-0.306805</td>\n",
              "      <td>0.275438</td>\n",
              "      <td>0.303546</td>\n",
              "      <td>1.000000</td>\n",
              "      <td>0.333313</td>\n",
              "      <td>0.390874</td>\n",
              "      <td>0.402111</td>\n",
              "      <td>0.219310</td>\n",
              "      <td>0.103797</td>\n",
              "      <td>0.111241</td>\n",
              "      <td>0.482692</td>\n",
              "      <td>-0.066160</td>\n",
              "    </tr>\n",
              "    <tr>\n",
              "      <th>TechSupport</th>\n",
              "      <td>-0.009212</td>\n",
              "      <td>-0.060625</td>\n",
              "      <td>0.119999</td>\n",
              "      <td>0.063268</td>\n",
              "      <td>0.324221</td>\n",
              "      <td>-0.096340</td>\n",
              "      <td>0.100571</td>\n",
              "      <td>-0.389382</td>\n",
              "      <td>0.354931</td>\n",
              "      <td>0.294233</td>\n",
              "      <td>0.333313</td>\n",
              "      <td>1.000000</td>\n",
              "      <td>0.278070</td>\n",
              "      <td>0.279358</td>\n",
              "      <td>0.293691</td>\n",
              "      <td>0.037880</td>\n",
              "      <td>0.167701</td>\n",
              "      <td>0.338304</td>\n",
              "      <td>-0.164674</td>\n",
              "    </tr>\n",
              "    <tr>\n",
              "      <th>StreamingTV</th>\n",
              "      <td>-0.008393</td>\n",
              "      <td>0.105378</td>\n",
              "      <td>0.124666</td>\n",
              "      <td>-0.016558</td>\n",
              "      <td>0.279756</td>\n",
              "      <td>-0.022574</td>\n",
              "      <td>0.257152</td>\n",
              "      <td>-0.242532</td>\n",
              "      <td>0.176207</td>\n",
              "      <td>0.282106</td>\n",
              "      <td>0.390874</td>\n",
              "      <td>0.278070</td>\n",
              "      <td>1.000000</td>\n",
              "      <td>0.533094</td>\n",
              "      <td>0.103944</td>\n",
              "      <td>0.223841</td>\n",
              "      <td>-0.013826</td>\n",
              "      <td>0.629603</td>\n",
              "      <td>0.063228</td>\n",
              "    </tr>\n",
              "    <tr>\n",
              "      <th>StreamingMovies</th>\n",
              "      <td>-0.010487</td>\n",
              "      <td>0.120176</td>\n",
              "      <td>0.117412</td>\n",
              "      <td>-0.039741</td>\n",
              "      <td>0.286111</td>\n",
              "      <td>-0.032959</td>\n",
              "      <td>0.258751</td>\n",
              "      <td>-0.250343</td>\n",
              "      <td>0.187398</td>\n",
              "      <td>0.274501</td>\n",
              "      <td>0.402111</td>\n",
              "      <td>0.279358</td>\n",
              "      <td>0.533094</td>\n",
              "      <td>1.000000</td>\n",
              "      <td>0.107520</td>\n",
              "      <td>0.211716</td>\n",
              "      <td>-0.004390</td>\n",
              "      <td>0.627429</td>\n",
              "      <td>0.061382</td>\n",
              "    </tr>\n",
              "    <tr>\n",
              "      <th>Contract</th>\n",
              "      <td>0.000126</td>\n",
              "      <td>-0.142554</td>\n",
              "      <td>0.294806</td>\n",
              "      <td>0.243187</td>\n",
              "      <td>0.671607</td>\n",
              "      <td>0.002247</td>\n",
              "      <td>0.107114</td>\n",
              "      <td>0.099721</td>\n",
              "      <td>0.245530</td>\n",
              "      <td>0.155085</td>\n",
              "      <td>0.219310</td>\n",
              "      <td>0.293691</td>\n",
              "      <td>0.103944</td>\n",
              "      <td>0.107520</td>\n",
              "      <td>1.000000</td>\n",
              "      <td>-0.176733</td>\n",
              "      <td>0.358913</td>\n",
              "      <td>-0.074195</td>\n",
              "      <td>-0.396713</td>\n",
              "    </tr>\n",
              "    <tr>\n",
              "      <th>PaperlessBilling</th>\n",
              "      <td>-0.011754</td>\n",
              "      <td>0.156530</td>\n",
              "      <td>-0.014877</td>\n",
              "      <td>-0.111377</td>\n",
              "      <td>0.006152</td>\n",
              "      <td>0.016505</td>\n",
              "      <td>0.163530</td>\n",
              "      <td>-0.138625</td>\n",
              "      <td>-0.003636</td>\n",
              "      <td>0.126735</td>\n",
              "      <td>0.103797</td>\n",
              "      <td>0.037880</td>\n",
              "      <td>0.223841</td>\n",
              "      <td>0.211716</td>\n",
              "      <td>-0.176733</td>\n",
              "      <td>1.000000</td>\n",
              "      <td>-0.101480</td>\n",
              "      <td>0.352150</td>\n",
              "      <td>0.191825</td>\n",
              "    </tr>\n",
              "    <tr>\n",
              "      <th>PaymentMethod</th>\n",
              "      <td>-0.005209</td>\n",
              "      <td>-0.093704</td>\n",
              "      <td>0.133115</td>\n",
              "      <td>0.123844</td>\n",
              "      <td>0.340305</td>\n",
              "      <td>-0.004070</td>\n",
              "      <td>0.035851</td>\n",
              "      <td>0.008124</td>\n",
              "      <td>0.163367</td>\n",
              "      <td>0.096550</td>\n",
              "      <td>0.111241</td>\n",
              "      <td>0.167701</td>\n",
              "      <td>-0.013826</td>\n",
              "      <td>-0.004390</td>\n",
              "      <td>0.358913</td>\n",
              "      <td>-0.101480</td>\n",
              "      <td>1.000000</td>\n",
              "      <td>-0.074353</td>\n",
              "      <td>-0.262818</td>\n",
              "    </tr>\n",
              "    <tr>\n",
              "      <th>MonthlyCharges</th>\n",
              "      <td>-0.014569</td>\n",
              "      <td>0.220173</td>\n",
              "      <td>0.096848</td>\n",
              "      <td>-0.113890</td>\n",
              "      <td>0.247900</td>\n",
              "      <td>0.247398</td>\n",
              "      <td>0.490434</td>\n",
              "      <td>-0.323260</td>\n",
              "      <td>0.296594</td>\n",
              "      <td>0.441780</td>\n",
              "      <td>0.482692</td>\n",
              "      <td>0.338304</td>\n",
              "      <td>0.629603</td>\n",
              "      <td>0.627429</td>\n",
              "      <td>-0.074195</td>\n",
              "      <td>0.352150</td>\n",
              "      <td>-0.074353</td>\n",
              "      <td>1.000000</td>\n",
              "      <td>0.193356</td>\n",
              "    </tr>\n",
              "    <tr>\n",
              "      <th>Churn</th>\n",
              "      <td>-0.008612</td>\n",
              "      <td>0.150889</td>\n",
              "      <td>-0.150448</td>\n",
              "      <td>-0.164221</td>\n",
              "      <td>-0.352229</td>\n",
              "      <td>0.011942</td>\n",
              "      <td>0.040102</td>\n",
              "      <td>-0.047291</td>\n",
              "      <td>-0.171226</td>\n",
              "      <td>-0.082255</td>\n",
              "      <td>-0.066160</td>\n",
              "      <td>-0.164674</td>\n",
              "      <td>0.063228</td>\n",
              "      <td>0.061382</td>\n",
              "      <td>-0.396713</td>\n",
              "      <td>0.191825</td>\n",
              "      <td>-0.262818</td>\n",
              "      <td>0.193356</td>\n",
              "      <td>1.000000</td>\n",
              "    </tr>\n",
              "  </tbody>\n",
              "</table>\n",
              "</div>\n",
              "      <button class=\"colab-df-convert\" onclick=\"convertToInteractive('df-4570c9f1-515f-4acb-8222-572e16386ed1')\"\n",
              "              title=\"Convert this dataframe to an interactive table.\"\n",
              "              style=\"display:none;\">\n",
              "        \n",
              "  <svg xmlns=\"http://www.w3.org/2000/svg\" height=\"24px\"viewBox=\"0 0 24 24\"\n",
              "       width=\"24px\">\n",
              "    <path d=\"M0 0h24v24H0V0z\" fill=\"none\"/>\n",
              "    <path d=\"M18.56 5.44l.94 2.06.94-2.06 2.06-.94-2.06-.94-.94-2.06-.94 2.06-2.06.94zm-11 1L8.5 8.5l.94-2.06 2.06-.94-2.06-.94L8.5 2.5l-.94 2.06-2.06.94zm10 10l.94 2.06.94-2.06 2.06-.94-2.06-.94-.94-2.06-.94 2.06-2.06.94z\"/><path d=\"M17.41 7.96l-1.37-1.37c-.4-.4-.92-.59-1.43-.59-.52 0-1.04.2-1.43.59L10.3 9.45l-7.72 7.72c-.78.78-.78 2.05 0 2.83L4 21.41c.39.39.9.59 1.41.59.51 0 1.02-.2 1.41-.59l7.78-7.78 2.81-2.81c.8-.78.8-2.07 0-2.86zM5.41 20L4 18.59l7.72-7.72 1.47 1.35L5.41 20z\"/>\n",
              "  </svg>\n",
              "      </button>\n",
              "      \n",
              "  <style>\n",
              "    .colab-df-container {\n",
              "      display:flex;\n",
              "      flex-wrap:wrap;\n",
              "      gap: 12px;\n",
              "    }\n",
              "\n",
              "    .colab-df-convert {\n",
              "      background-color: #E8F0FE;\n",
              "      border: none;\n",
              "      border-radius: 50%;\n",
              "      cursor: pointer;\n",
              "      display: none;\n",
              "      fill: #1967D2;\n",
              "      height: 32px;\n",
              "      padding: 0 0 0 0;\n",
              "      width: 32px;\n",
              "    }\n",
              "\n",
              "    .colab-df-convert:hover {\n",
              "      background-color: #E2EBFA;\n",
              "      box-shadow: 0px 1px 2px rgba(60, 64, 67, 0.3), 0px 1px 3px 1px rgba(60, 64, 67, 0.15);\n",
              "      fill: #174EA6;\n",
              "    }\n",
              "\n",
              "    [theme=dark] .colab-df-convert {\n",
              "      background-color: #3B4455;\n",
              "      fill: #D2E3FC;\n",
              "    }\n",
              "\n",
              "    [theme=dark] .colab-df-convert:hover {\n",
              "      background-color: #434B5C;\n",
              "      box-shadow: 0px 1px 3px 1px rgba(0, 0, 0, 0.15);\n",
              "      filter: drop-shadow(0px 1px 2px rgba(0, 0, 0, 0.3));\n",
              "      fill: #FFFFFF;\n",
              "    }\n",
              "  </style>\n",
              "\n",
              "      <script>\n",
              "        const buttonEl =\n",
              "          document.querySelector('#df-4570c9f1-515f-4acb-8222-572e16386ed1 button.colab-df-convert');\n",
              "        buttonEl.style.display =\n",
              "          google.colab.kernel.accessAllowed ? 'block' : 'none';\n",
              "\n",
              "        async function convertToInteractive(key) {\n",
              "          const element = document.querySelector('#df-4570c9f1-515f-4acb-8222-572e16386ed1');\n",
              "          const dataTable =\n",
              "            await google.colab.kernel.invokeFunction('convertToInteractive',\n",
              "                                                     [key], {});\n",
              "          if (!dataTable) return;\n",
              "\n",
              "          const docLinkHtml = 'Like what you see? Visit the ' +\n",
              "            '<a target=\"_blank\" href=https://colab.research.google.com/notebooks/data_table.ipynb>data table notebook</a>'\n",
              "            + ' to learn more about interactive tables.';\n",
              "          element.innerHTML = '';\n",
              "          dataTable['output_type'] = 'display_data';\n",
              "          await google.colab.output.renderOutput(dataTable, element);\n",
              "          const docLink = document.createElement('div');\n",
              "          docLink.innerHTML = docLinkHtml;\n",
              "          element.appendChild(docLink);\n",
              "        }\n",
              "      </script>\n",
              "    </div>\n",
              "  </div>\n",
              "  "
            ]
          },
          "metadata": {},
          "execution_count": 39
        }
      ],
      "source": [
        "df.corr()"
      ]
    },
    {
      "cell_type": "code",
      "source": [
        "df['gender'].value_counts().plot(kind=\"pie\", autopct=\"%.2f%%\")\n",
        "plt.show()"
      ],
      "metadata": {
        "colab": {
          "base_uri": "https://localhost:8080/",
          "height": 248
        },
        "id": "VeDG1VIfLJ5K",
        "outputId": "e4f99f71-3ad8-4af0-c46e-443b6c525ba3"
      },
      "id": "VeDG1VIfLJ5K",
      "execution_count": 40,
      "outputs": [
        {
          "output_type": "display_data",
          "data": {
            "text/plain": [
              "<Figure size 432x288 with 1 Axes>"
            ],
            "image/png": "[encoded data removed]"
          },
          "metadata": {}
        }
      ]
    },
    {
      "cell_type": "code",
      "source": [
        "sns.countplot(df['SeniorCitizen']) #ratio of senior citizen and others in the company\n",
        "plt.show()"
      ],
      "metadata": {
        "colab": {
          "base_uri": "https://localhost:8080/",
          "height": 340
        },
        "id": "rbPTDKhpLfOL",
        "outputId": "2d679737-cd22-4a8e-cb72-0e8aee6a0e3b"
      },
      "id": "rbPTDKhpLfOL",
      "execution_count": 41,
      "outputs": [
        {
          "output_type": "stream",
          "name": "stderr",
          "text": [
            "/usr/local/lib/python3.7/dist-packages/seaborn/_decorators.py:43: FutureWarning: Pass the following variable as a keyword arg: x. From version 0.12, the only valid positional argument will be `data`, and passing other arguments without an explicit keyword will result in an error or misinterpretation.\n",
            "  FutureWarning\n"
          ]
        },
        {
          "output_type": "display_data",
          "data": {
            "text/plain": [
              "<Figure size 432x288 with 1 Axes>"
            ],
            "image/png": "[encoded data removed]"
          },
          "metadata": {}
        }
      ]
    },
    {
      "cell_type": "code",
      "source": [
        "plt.figure(figsize= (10, 6)) #ratio between who has partners and not in our company\n",
        "x = round(df[\"Partner\"].value_counts()/df.shape[0]*100,2)\n",
        "plt.pie(x,labels = [\"Yes\", \"No\"],  explode = [0.1,0], autopct= '%.2f%%', shadow= True, colors= ['#256D85', '#3BACB6'])\n",
        "plt.legend()\n",
        "plt.show()"
      ],
      "metadata": {
        "colab": {
          "base_uri": "https://localhost:8080/",
          "height": 357
        },
        "id": "ZKYVumpiLgRU",
        "outputId": "749faa02-3f02-439c-c765-851dac3921c4"
      },
      "id": "ZKYVumpiLgRU",
      "execution_count": 42,
      "outputs": [
        {
          "output_type": "display_data",
          "data": {
            "text/plain": [
              "<Figure size 720x432 with 1 Axes>"
            ],
            "image/png": "[encoded data removed]"
          },
          "metadata": {}
        }
      ]
    },
    {
      "cell_type": "code",
      "source": [
        "round(df[\"Dependents\"].value_counts()/df.shape[0]*100,2)"
      ],
      "metadata": {
        "colab": {
          "base_uri": "https://localhost:8080/"
        },
        "id": "cwhtquziLgTf",
        "outputId": "2fb4435a-f075-4dab-bb3e-c5e274e784aa"
      },
      "id": "cwhtquziLgTf",
      "execution_count": 43,
      "outputs": [
        {
          "output_type": "execute_result",
          "data": {
            "text/plain": [
              "0    70.04\n",
              "1    29.96\n",
              "Name: Dependents, dtype: float64"
            ]
          },
          "metadata": {},
          "execution_count": 43
        }
      ]
    },
    {
      "cell_type": "code",
      "source": [
        "round(df['MultipleLines'].value_counts()/ df.shape[0]*100,2).plot.bar()#ratio between who has MultipleLines and not in our company"
      ],
      "metadata": {
        "colab": {
          "base_uri": "https://localhost:8080/",
          "height": 283
        },
        "id": "oKrj3N9xLgVX",
        "outputId": "64100ef9-8b31-4fd5-a0d6-772d7177ac95"
      },
      "id": "oKrj3N9xLgVX",
      "execution_count": 44,
      "outputs": [
        {
          "output_type": "execute_result",
          "data": {
            "text/plain": [
              "<matplotlib.axes._subplots.AxesSubplot at 0x7f26fc43b390>"
            ]
          },
          "metadata": {},
          "execution_count": 44
        },
        {
          "output_type": "display_data",
          "data": {
            "text/plain": [
              "<Figure size 432x288 with 1 Axes>"
            ],
            "image/png": "[encoded data removed]"
          },
          "metadata": {}
        }
      ]
    },
    {
      "cell_type": "code",
      "source": [
        "plt.figure(figsize=(9,7))#relationship between the Internet Services and the churn rate\n",
        "ax = sns.countplot(x=\"InternetService\", hue=\"Churn\", data=df).set(title='Internet Service vs Churn Rates')\n",
        "sns.despine()\n",
        "plt.legend(title='', loc='upper right', labels=['No Churn', 'Churn'])\n",
        "plt.show()"
      ],
      "metadata": {
        "colab": {
          "base_uri": "https://localhost:8080/",
          "height": 464
        },
        "id": "4zHrV2q-LgXd",
        "outputId": "eb9c7acc-9a03-4bad-e1a5-5825400c6bca"
      },
      "id": "4zHrV2q-LgXd",
      "execution_count": 45,
      "outputs": [
        {
          "output_type": "display_data",
          "data": {
            "text/plain": [
              "<Figure size 648x504 with 1 Axes>"
            ],
            "image/png": "[encoded data removed]"
          },
          "metadata": {}
        }
      ]
    },
    {
      "cell_type": "code",
      "source": [
        "plt.figure(figsize=(10,8))#ratio between users who streaming movies to StreamingTV subscribers\n",
        "ax = sns.countplot(x=\"StreamingTV\", hue=\"StreamingMovies\", data=df).set(title='StreamingTV vs StreamingMovies Rates')\n",
        "sns.despine()\n",
        "plt.show()"
      ],
      "metadata": {
        "colab": {
          "base_uri": "https://localhost:8080/",
          "height": 518
        },
        "id": "9WHkPUESLgZR",
        "outputId": "a1707ec7-e572-4eb1-cf94-384a30aa7136"
      },
      "id": "9WHkPUESLgZR",
      "execution_count": 46,
      "outputs": [
        {
          "output_type": "display_data",
          "data": {
            "text/plain": [
              "<Figure size 720x576 with 1 Axes>"
            ],
            "image/png": "[encoded data removed]"
          },
          "metadata": {}
        }
      ]
    },
    {
      "cell_type": "code",
      "source": [
        "df.drop(['customerID'],axis=1,inplace=True)"
      ],
      "metadata": {
        "id": "ex-bvRo42zri"
      },
      "id": "ex-bvRo42zri",
      "execution_count": 47,
      "outputs": []
    },
    {
      "cell_type": "code",
      "source": [
        "X = df.iloc[:,[1,2,3,4,5,6,7,8,9,10,11,12,13,14]].values\n",
        "y = df['Churn']"
      ],
      "metadata": {
        "id": "d-92B1Eq3Atv"
      },
      "id": "d-92B1Eq3Atv",
      "execution_count": 48,
      "outputs": []
    },
    {
      "cell_type": "code",
      "source": [
        "sc = StandardScaler()\n",
        "X = sc.fit_transform(X)"
      ],
      "metadata": {
        "id": "5lLQ-C3p3xAG"
      },
      "id": "5lLQ-C3p3xAG",
      "execution_count": 49,
      "outputs": []
    },
    {
      "cell_type": "code",
      "source": [
        "X_train, X_test, y_train, y_test = train_test_split(X, y, test_size= 0.2, stratify= y, random_state= 40)"
      ],
      "metadata": {
        "id": "mb18SQ1N4Bfs"
      },
      "id": "mb18SQ1N4Bfs",
      "execution_count": 50,
      "outputs": []
    },
    {
      "cell_type": "code",
      "source": [
        "print(y_train.value_counts())\n",
        "print(y_test.value_counts())"
      ],
      "metadata": {
        "colab": {
          "base_uri": "https://localhost:8080/"
        },
        "id": "CQDuGqdP4Rse",
        "outputId": "5816cf16-f45a-472c-9f66-4f88cd685abb"
      },
      "id": "CQDuGqdP4Rse",
      "execution_count": 51,
      "outputs": [
        {
          "output_type": "stream",
          "name": "stdout",
          "text": [
            "0    4139\n",
            "1    1495\n",
            "Name: Churn, dtype: int64\n",
            "0    1035\n",
            "1     374\n",
            "Name: Churn, dtype: int64\n"
          ]
        }
      ]
    },
    {
      "cell_type": "code",
      "source": [
        "models = {\n",
        "    'logistic regression' : LogisticRegression(),\n",
        "    'xgboost' : XGBClassifier(),\n",
        "    'naive bayes' : GaussianNB(),\n",
        "    'random forest' : RandomForestClassifier()\n",
        "}"
      ],
      "metadata": {
        "id": "gDE7BmlE4To5"
      },
      "id": "gDE7BmlE4To5",
      "execution_count": 52,
      "outputs": []
    },
    {
      "cell_type": "code",
      "source": [
        "for name, model in models.items():\n",
        "    model.fit(X_train, y_train)\n",
        "    print(f'{name} trained')"
      ],
      "metadata": {
        "colab": {
          "base_uri": "https://localhost:8080/"
        },
        "id": "Nprx-Z-M4gD4",
        "outputId": "a7c8ed8f-c7ac-449c-9da8-d61fe694d046"
      },
      "id": "Nprx-Z-M4gD4",
      "execution_count": 53,
      "outputs": [
        {
          "output_type": "stream",
          "name": "stdout",
          "text": [
            "logistic regression trained\n",
            "xgboost trained\n",
            "naive bayes trained\n",
            "random forest trained\n"
          ]
        }
      ]
    },
    {
      "cell_type": "code",
      "source": [
        "results = {}\n",
        "\n",
        "kf = KFold(n_splits= 25)\n",
        "\n",
        "for name, model in models.items():\n",
        "    result = cross_val_score(model, X_train, y_train, scoring= 'roc_auc', cv= kf)\n",
        "    results[name] = result"
      ],
      "metadata": {
        "id": "HemcpC5L4kuL"
      },
      "id": "HemcpC5L4kuL",
      "execution_count": 54,
      "outputs": []
    },
    {
      "cell_type": "code",
      "source": [
        "for name, result in results.items():\n",
        "    print(\"----------------\")\n",
        "    print(f'{name} : {np.mean(result)}')"
      ],
      "metadata": {
        "colab": {
          "base_uri": "https://localhost:8080/"
        },
        "id": "ZAI2LbUd4s63",
        "outputId": "d077f343-a762-4bab-8db3-8ca134d393b1"
      },
      "id": "ZAI2LbUd4s63",
      "execution_count": 55,
      "outputs": [
        {
          "output_type": "stream",
          "name": "stdout",
          "text": [
            "----------------\n",
            "logistic regression : 0.8251247141195188\n",
            "----------------\n",
            "xgboost : 0.8474756710718456\n",
            "----------------\n",
            "naive bayes : 0.8128284399820697\n",
            "----------------\n",
            "random forest : 0.80250289593802\n"
          ]
        }
      ]
    },
    {
      "cell_type": "markdown",
      "source": [
        "***xgboost algorithm is the winner here as research also shows it is best algorith for churn analysis***"
      ],
      "metadata": {
        "id": "1GjjR3X55IhU"
      },
      "id": "1GjjR3X55IhU"
    },
    {
      "cell_type": "code",
      "source": [
        "\n",
        "lr = LogisticRegression(\n",
        "    solver = 'liblinear',\n",
        "    tol = 0.008408625396645686,\n",
        "    C = 0.08440490508701622,\n",
        "    max_iter = 589,\n",
        "    penalty = 'l1')\n",
        "\n",
        "lr.fit(X_train, y_train)\n",
        "y_pred = lr.predict(X_test)\n",
        "y_pred_prob = lr.predict_proba(X_test)[:, 1]"
      ],
      "metadata": {
        "id": "5WLDjMdS5B5f"
      },
      "id": "5WLDjMdS5B5f",
      "execution_count": 56,
      "outputs": []
    },
    {
      "cell_type": "code",
      "source": [
        "print(\"Actual values    :\", y_test.values[:20])\n",
        "print(\"Predicted values :\", y_pred[:20])"
      ],
      "metadata": {
        "colab": {
          "base_uri": "https://localhost:8080/"
        },
        "id": "xDMmFd3Z6P5i",
        "outputId": "a7e4a76c-cf70-40a3-b3c4-f9feeff21dde"
      },
      "id": "xDMmFd3Z6P5i",
      "execution_count": 57,
      "outputs": [
        {
          "output_type": "stream",
          "name": "stdout",
          "text": [
            "Actual values    : [0 0 1 0 0 0 1 0 0 0 0 0 0 0 0 0 0 1 0 0]\n",
            "Predicted values : [0 0 0 0 1 0 1 0 0 0 0 1 1 0 0 0 0 0 0 0]\n"
          ]
        }
      ]
    },
    {
      "cell_type": "code",
      "source": [
        "\n",
        "predictions = pd.DataFrame({'Probability of Customer Churning': y_pred_prob, 'Probability of customer not churning' : 1 - y_pred_prob})\n",
        "predictions.head()"
      ],
      "metadata": {
        "colab": {
          "base_uri": "https://localhost:8080/",
          "height": 206
        },
        "id": "D-JgV5ye6SF8",
        "outputId": "7fe31ef8-a9dd-4061-e302-71ec95885b38"
      },
      "id": "D-JgV5ye6SF8",
      "execution_count": 58,
      "outputs": [
        {
          "output_type": "execute_result",
          "data": {
            "text/plain": [
              "   Probability of Customer Churning  Probability of customer not churning\n",
              "0                          0.008084                              0.991916\n",
              "1                          0.068002                              0.931998\n",
              "2                          0.263524                              0.736476\n",
              "3                          0.104210                              0.895790\n",
              "4                          0.535242                              0.464758"
            ],
            "text/html": [
              "\n",
              "  <div id=\"df-0cd8fc5f-ee2a-486b-b5e9-33e3b5a2891e\">\n",
              "    <div class=\"colab-df-container\">\n",
              "      <div>\n",
              "<style scoped>\n",
              "    .dataframe tbody tr th:only-of-type {\n",
              "        vertical-align: middle;\n",
              "    }\n",
              "\n",
              "    .dataframe tbody tr th {\n",
              "        vertical-align: top;\n",
              "    }\n",
              "\n",
              "    .dataframe thead th {\n",
              "        text-align: right;\n",
              "    }\n",
              "</style>\n",
              "<table border=\"1\" class=\"dataframe\">\n",
              "  <thead>\n",
              "    <tr style=\"text-align: right;\">\n",
              "      <th></th>\n",
              "      <th>Probability of Customer Churning</th>\n",
              "      <th>Probability of customer not churning</th>\n",
              "    </tr>\n",
              "  </thead>\n",
              "  <tbody>\n",
              "    <tr>\n",
              "      <th>0</th>\n",
              "      <td>0.008084</td>\n",
              "      <td>0.991916</td>\n",
              "    </tr>\n",
              "    <tr>\n",
              "      <th>1</th>\n",
              "      <td>0.068002</td>\n",
              "      <td>0.931998</td>\n",
              "    </tr>\n",
              "    <tr>\n",
              "      <th>2</th>\n",
              "      <td>0.263524</td>\n",
              "      <td>0.736476</td>\n",
              "    </tr>\n",
              "    <tr>\n",
              "      <th>3</th>\n",
              "      <td>0.104210</td>\n",
              "      <td>0.895790</td>\n",
              "    </tr>\n",
              "    <tr>\n",
              "      <th>4</th>\n",
              "      <td>0.535242</td>\n",
              "      <td>0.464758</td>\n",
              "    </tr>\n",
              "  </tbody>\n",
              "</table>\n",
              "</div>\n",
              "      <button class=\"colab-df-convert\" onclick=\"convertToInteractive('df-0cd8fc5f-ee2a-486b-b5e9-33e3b5a2891e')\"\n",
              "              title=\"Convert this dataframe to an interactive table.\"\n",
              "              style=\"display:none;\">\n",
              "        \n",
              "  <svg xmlns=\"http://www.w3.org/2000/svg\" height=\"24px\"viewBox=\"0 0 24 24\"\n",
              "       width=\"24px\">\n",
              "    <path d=\"M0 0h24v24H0V0z\" fill=\"none\"/>\n",
              "    <path d=\"M18.56 5.44l.94 2.06.94-2.06 2.06-.94-2.06-.94-.94-2.06-.94 2.06-2.06.94zm-11 1L8.5 8.5l.94-2.06 2.06-.94-2.06-.94L8.5 2.5l-.94 2.06-2.06.94zm10 10l.94 2.06.94-2.06 2.06-.94-2.06-.94-.94-2.06-.94 2.06-2.06.94z\"/><path d=\"M17.41 7.96l-1.37-1.37c-.4-.4-.92-.59-1.43-.59-.52 0-1.04.2-1.43.59L10.3 9.45l-7.72 7.72c-.78.78-.78 2.05 0 2.83L4 21.41c.39.39.9.59 1.41.59.51 0 1.02-.2 1.41-.59l7.78-7.78 2.81-2.81c.8-.78.8-2.07 0-2.86zM5.41 20L4 18.59l7.72-7.72 1.47 1.35L5.41 20z\"/>\n",
              "  </svg>\n",
              "      </button>\n",
              "      \n",
              "  <style>\n",
              "    .colab-df-container {\n",
              "      display:flex;\n",
              "      flex-wrap:wrap;\n",
              "      gap: 12px;\n",
              "    }\n",
              "\n",
              "    .colab-df-convert {\n",
              "      background-color: #E8F0FE;\n",
              "      border: none;\n",
              "      border-radius: 50%;\n",
              "      cursor: pointer;\n",
              "      display: none;\n",
              "      fill: #1967D2;\n",
              "      height: 32px;\n",
              "      padding: 0 0 0 0;\n",
              "      width: 32px;\n",
              "    }\n",
              "\n",
              "    .colab-df-convert:hover {\n",
              "      background-color: #E2EBFA;\n",
              "      box-shadow: 0px 1px 2px rgba(60, 64, 67, 0.3), 0px 1px 3px 1px rgba(60, 64, 67, 0.15);\n",
              "      fill: #174EA6;\n",
              "    }\n",
              "\n",
              "    [theme=dark] .colab-df-convert {\n",
              "      background-color: #3B4455;\n",
              "      fill: #D2E3FC;\n",
              "    }\n",
              "\n",
              "    [theme=dark] .colab-df-convert:hover {\n",
              "      background-color: #434B5C;\n",
              "      box-shadow: 0px 1px 3px 1px rgba(0, 0, 0, 0.15);\n",
              "      filter: drop-shadow(0px 1px 2px rgba(0, 0, 0, 0.3));\n",
              "      fill: #FFFFFF;\n",
              "    }\n",
              "  </style>\n",
              "\n",
              "      <script>\n",
              "        const buttonEl =\n",
              "          document.querySelector('#df-0cd8fc5f-ee2a-486b-b5e9-33e3b5a2891e button.colab-df-convert');\n",
              "        buttonEl.style.display =\n",
              "          google.colab.kernel.accessAllowed ? 'block' : 'none';\n",
              "\n",
              "        async function convertToInteractive(key) {\n",
              "          const element = document.querySelector('#df-0cd8fc5f-ee2a-486b-b5e9-33e3b5a2891e');\n",
              "          const dataTable =\n",
              "            await google.colab.kernel.invokeFunction('convertToInteractive',\n",
              "                                                     [key], {});\n",
              "          if (!dataTable) return;\n",
              "\n",
              "          const docLinkHtml = 'Like what you see? Visit the ' +\n",
              "            '<a target=\"_blank\" href=https://colab.research.google.com/notebooks/data_table.ipynb>data table notebook</a>'\n",
              "            + ' to learn more about interactive tables.';\n",
              "          element.innerHTML = '';\n",
              "          dataTable['output_type'] = 'display_data';\n",
              "          await google.colab.output.renderOutput(dataTable, element);\n",
              "          const docLink = document.createElement('div');\n",
              "          docLink.innerHTML = docLinkHtml;\n",
              "          element.appendChild(docLink);\n",
              "        }\n",
              "      </script>\n",
              "    </div>\n",
              "  </div>\n",
              "  "
            ]
          },
          "metadata": {},
          "execution_count": 58
        }
      ]
    },
    {
      "cell_type": "code",
      "source": [
        "print('ROC AUC Score:', round(roc_auc_score(y_test, y_pred_prob), 3))"
      ],
      "metadata": {
        "colab": {
          "base_uri": "https://localhost:8080/"
        },
        "id": "gpzV8r926VNO",
        "outputId": "c77d57b8-bfc5-4be2-e28a-ff722125f01d"
      },
      "id": "gpzV8r926VNO",
      "execution_count": null,
      "outputs": [
        {
          "output_type": "stream",
          "name": "stdout",
          "text": [
            "ROC AUC Score: 0.811\n"
          ]
        }
      ]
    },
    {
      "cell_type": "code",
      "source": [
        "fpr, tpr, thresholds = roc_curve(y_test, y_pred_prob)\n",
        "\n",
        "plt.figure(figsize=(6,4))\n",
        "plt.plot(fpr, tpr, linewidth=2, color= 'teal')\n",
        "plt.plot([0,1], [0,1], 'r--' )\n",
        "plt.title('ROC Curve')\n",
        "plt.xlabel('False Positive Rate')\n",
        "plt.ylabel('True Positive Rate')\n",
        "\n",
        "plt.show()"
      ],
      "metadata": {
        "colab": {
          "base_uri": "https://localhost:8080/",
          "height": 301
        },
        "id": "Wpvo3ACG8KJT",
        "outputId": "194a7624-6310-4e52-b51b-65c2b8e70ff9"
      },
      "id": "Wpvo3ACG8KJT",
      "execution_count": null,
      "outputs": [
        {
          "output_type": "display_data",
          "data": {
            "text/plain": [
              "<Figure size 432x288 with 1 Axes>"
            ],
            "image/png": "[encoded data removed]"
          },
          "metadata": {}
        }
      ]
    },
    {
      "cell_type": "code",
      "source": [
        "from sklearn.svm import SVC # \"Support vector classifier\"  \n",
        "classifier = SVC(kernel='linear', random_state=0)  \n",
        "classifier.fit(X_train, y_train)  "
      ],
      "metadata": {
        "id": "vDau9mo4X2hO",
        "colab": {
          "base_uri": "https://localhost:8080/"
        },
        "outputId": "b88b03f0-c75e-44f7-a634-7b33ea3051ae"
      },
      "id": "vDau9mo4X2hO",
      "execution_count": null,
      "outputs": [
        {
          "output_type": "execute_result",
          "data": {
            "text/plain": [
              "SVC(kernel='linear', random_state=0)"
            ]
          },
          "metadata": {},
          "execution_count": 56
        }
      ]
    },
    {
      "cell_type": "code",
      "source": [
        "y_pred= classifier.predict(X_test) "
      ],
      "metadata": {
        "id": "tGLuVcSmBUKf"
      },
      "id": "tGLuVcSmBUKf",
      "execution_count": null,
      "outputs": []
    },
    {
      "cell_type": "code",
      "source": [
        "from sklearn.metrics import confusion_matrix  \n",
        "cm= confusion_matrix(y_test, y_pred)\n",
        "cm"
      ],
      "metadata": {
        "colab": {
          "base_uri": "https://localhost:8080/"
        },
        "id": "yPSlS8QlBcVo",
        "outputId": "c6977dab-4ed3-40ba-b815-29b24a188c6d"
      },
      "id": "yPSlS8QlBcVo",
      "execution_count": null,
      "outputs": [
        {
          "output_type": "execute_result",
          "data": {
            "text/plain": [
              "array([[952,  83],\n",
              "       [254, 120]])"
            ]
          },
          "metadata": {},
          "execution_count": 60
        }
      ]
    },
    {
      "cell_type": "code",
      "source": [
        "from sklearn.metrics import accuracy_score\n",
        "print('Accuracy: %.2f' % (accuracy_score(y_test, y_pred)*100))"
      ],
      "metadata": {
        "colab": {
          "base_uri": "https://localhost:8080/"
        },
        "id": "aNRVwoufBh4c",
        "outputId": "00745a08-927f-4b57-ffb0-9de783ac34b7"
      },
      "id": "aNRVwoufBh4c",
      "execution_count": null,
      "outputs": [
        {
          "output_type": "stream",
          "name": "stdout",
          "text": [
            "Accuracy: 76.08\n"
          ]
        }
      ]
    },
    {
      "cell_type": "code",
      "source": [],
      "metadata": {
        "id": "YLHJ9dnYdw2M"
      },
      "id": "YLHJ9dnYdw2M",
      "execution_count": null,
      "outputs": []
    }
  ],
  "metadata": {
    "kernelspec": {
      "display_name": "Python 3 (ipykernel)",
      "language": "python",
      "name": "python3"
    },
    "language_info": {
      "codemirror_mode": {
        "name": "ipython",
        "version": 3
      },
      "file_extension": ".py",
      "mimetype": "text/x-python",
      "name": "python",
      "nbconvert_exporter": "python",
      "pygments_lexer": "ipython3",
      "version": "3.9.7"
    },
    "colab": {
      "name": "Churn Analysis (Team-Santosh).ipynb",
      "provenance": [],
      "collapsed_sections": []
    }
  },
  "nbformat": 4,
  "nbformat_minor": 5
}